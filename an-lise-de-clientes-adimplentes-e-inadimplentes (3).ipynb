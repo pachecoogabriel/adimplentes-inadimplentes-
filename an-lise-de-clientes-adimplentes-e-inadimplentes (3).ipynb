{
 "cells": [
  {
   "cell_type": "code",
   "execution_count": 1,
   "id": "02c9cc81",
   "metadata": {
    "_cell_guid": "b1076dfc-b9ad-4769-8c92-a6c4dae69d19",
    "_uuid": "8f2839f25d086af736a60e9eeb907d3b93b6e0e5",
    "execution": {
     "iopub.execute_input": "2024-05-22T19:59:01.212155Z",
     "iopub.status.busy": "2024-05-22T19:59:01.211349Z",
     "iopub.status.idle": "2024-05-22T19:59:02.038367Z",
     "shell.execute_reply": "2024-05-22T19:59:02.037232Z"
    },
    "papermill": {
     "duration": 0.845084,
     "end_time": "2024-05-22T19:59:02.040741",
     "exception": false,
     "start_time": "2024-05-22T19:59:01.195657",
     "status": "completed"
    },
    "tags": []
   },
   "outputs": [
    {
     "name": "stdout",
     "output_type": "stream",
     "text": [
      "/kaggle/input/analise-credito/analise_credito.csv\n"
     ]
    }
   ],
   "source": [
    "# This Python 3 environment comes with many helpful analytics libraries installed\n",
    "# It is defined by the kaggle/python Docker image: https://github.com/kaggle/docker-python\n",
    "# For example, here's several helpful packages to load\n",
    "\n",
    "import numpy as np # linear algebra\n",
    "import pandas as pd # data processing, CSV file I/O (e.g. pd.read_csv)\n",
    "\n",
    "# Input data files are available in the read-only \"../input/\" directory\n",
    "# For example, running this (by clicking run or pressing Shift+Enter) will list all files under the input directory\n",
    "\n",
    "import os\n",
    "for dirname, _, filenames in os.walk('/kaggle/input'):\n",
    "    for filename in filenames:\n",
    "        print(os.path.join(dirname, filename))\n",
    "\n",
    "# You can write up to 20GB to the current directory (/kaggle/working/) that gets preserved as output when you create a version using \"Save & Run All\" \n",
    "# You can also write temporary files to /kaggle/temp/, but they won't be saved outside of the current session"
   ]
  },
  {
   "cell_type": "markdown",
   "id": "c10ae1ad",
   "metadata": {
    "papermill": {
     "duration": 0.013703,
     "end_time": "2024-05-22T19:59:02.068732",
     "exception": false,
     "start_time": "2024-05-22T19:59:02.055029",
     "status": "completed"
    },
    "tags": []
   },
   "source": [
    "**Introdução:** \n",
    "   \n",
    "   O presente notebook visa fornecer uma analise abrangente e informativa sobre os clientes de uma determinada instituição financeira, com foco na compreensão dos padrões de clientes de adimplência e inadimplência, representados pela coluna chamada de default, que indica se um cliente é adimplente (default = 0), ou inadimplente (default = 1). Os passos descritos serão acompanhados de explicações detalhadas e comentários pertinentes para facilitar a compreensão e interpretação dos resultados.\n",
    "   \n",
    "   "
   ]
  },
  {
   "cell_type": "markdown",
   "id": "79a3f62f",
   "metadata": {
    "papermill": {
     "duration": 0.013129,
     "end_time": "2024-05-22T19:59:02.096593",
     "exception": false,
     "start_time": "2024-05-22T19:59:02.083464",
     "status": "completed"
    },
    "tags": []
   },
   "source": [
    "**Código de importação de bibliotecas:**\n",
    "\n",
    "Aqui iremos importar as bibliotecas para manipulação/limpeza e visulização dos dados."
   ]
  },
  {
   "cell_type": "code",
   "execution_count": 2,
   "id": "56481f6d",
   "metadata": {
    "execution": {
     "iopub.execute_input": "2024-05-22T19:59:02.126058Z",
     "iopub.status.busy": "2024-05-22T19:59:02.125013Z",
     "iopub.status.idle": "2024-05-22T19:59:03.408347Z",
     "shell.execute_reply": "2024-05-22T19:59:03.407453Z"
    },
    "papermill": {
     "duration": 1.300462,
     "end_time": "2024-05-22T19:59:03.410673",
     "exception": false,
     "start_time": "2024-05-22T19:59:02.110211",
     "status": "completed"
    },
    "tags": []
   },
   "outputs": [],
   "source": [
    "#Manipulção, limpeza e visualização dos dados\n",
    "import pandas as pd\n",
    "\n",
    "import seaborn as sns\n",
    "import matplotlib.pyplot as plt\n",
    "\n",
    "#ignore a ultima biclioteca\n",
    "import warnings\n",
    "warnings.filterwarnings('ignore')\n"
   ]
  },
  {
   "cell_type": "markdown",
   "id": "8ac65858",
   "metadata": {
    "papermill": {
     "duration": 0.01335,
     "end_time": "2024-05-22T19:59:03.437905",
     "exception": false,
     "start_time": "2024-05-22T19:59:03.424555",
     "status": "completed"
    },
    "tags": []
   },
   "source": [
    "**Código de download e carregamentos dos dados:**\n",
    "\n",
    "\n",
    "Neste bloco de código foi feito o download dos dados utilizados na análise e declaração dos valores nulos da tabelas que estão como *na* .\n",
    "\n",
    "Após o fornecimento dos dados através de uma URL, transportamos essa base de dados para um arquivo local(csv). Após esse processo importamos esse arquivo para o notebook da forma proposta abaixo:"
   ]
  },
  {
   "cell_type": "code",
   "execution_count": 3,
   "id": "510a50a4",
   "metadata": {
    "execution": {
     "iopub.execute_input": "2024-05-22T19:59:03.466986Z",
     "iopub.status.busy": "2024-05-22T19:59:03.466615Z",
     "iopub.status.idle": "2024-05-22T19:59:03.517561Z",
     "shell.execute_reply": "2024-05-22T19:59:03.516632Z"
    },
    "papermill": {
     "duration": 0.06849,
     "end_time": "2024-05-22T19:59:03.520039",
     "exception": false,
     "start_time": "2024-05-22T19:59:03.451549",
     "status": "completed"
    },
    "tags": []
   },
   "outputs": [],
   "source": [
    "df = pd.read_csv('/kaggle/input/analise-credito/analise_credito.csv', na_values= 'na')"
   ]
  },
  {
   "cell_type": "markdown",
   "id": "1a35ebec",
   "metadata": {
    "papermill": {
     "duration": 0.014157,
     "end_time": "2024-05-22T19:59:03.548107",
     "exception": false,
     "start_time": "2024-05-22T19:59:03.533950",
     "status": "completed"
    },
    "tags": []
   },
   "source": [
    "**Analise exploratória dos dados**:\n",
    "\n",
    "\n",
    "A partir desta base de dados vamos explorar quais correlções entre categorias podemos fazer para entender melhor o comportamento e caracteristicas das pessoas que acabam se endividando. Estas categorias podem ser: escolaridade, estado civil, salário anual, tipo de cartão, dependentes, limite de crédito, entre outras.\n",
    "\n",
    "Abaixo temos a lista completa dos atributos.\n",
    "\n",
    "\n",
    "| Coluna  | Descrição |\n",
    "| ------- | --------- |\n",
    "| id      | Número da conta |\n",
    "| default | Indica se o cliente é adimplente (0) ou inadimplente (1) |\n",
    "| idade   | --- |\n",
    "| sexo    | --- |\n",
    "| depedentes | --- |\n",
    "| escolaridade | --- |\n",
    "| estado_civil | --- |\n",
    "| salario_anual | Faixa do salario mensal multiplicado por 12 |\n",
    "| tipo_cartao | Categoria do cartao: blue, silver, gold e platinium |\n",
    "| meses_de_relacionamento | Quantidade de meses desde a abertura da conta |\n",
    "| qtd_produtos | Quantidade de produtos contratados |\n",
    "| iteracoes_12m | Quantidade de iteracoes com o cliente no último ano |\n",
    "| meses_inatico_12m | Quantidade de meses que o cliente ficou inativo no último ano |\n",
    "| limite_credito | Valor do limite do cartão de crédito |\n",
    "| valor_transacoes_12m | Soma total do valor das transações no cartão de crédito no último ano |\n",
    "| qtd_transacoes_12m | Quantidade total de transações no cartão de crédito no último ano |\n",
    "\n"
   ]
  },
  {
   "cell_type": "markdown",
   "id": "54ea0602",
   "metadata": {
    "papermill": {
     "duration": 0.01447,
     "end_time": "2024-05-22T19:59:03.576466",
     "exception": false,
     "start_time": "2024-05-22T19:59:03.561996",
     "status": "completed"
    },
    "tags": []
   },
   "source": [
    "Diante de uma primeira e simples analise exploratoria plotamos as 15 primeiras linhas para que não sobrecarregue o processamento dos dados. "
   ]
  },
  {
   "cell_type": "code",
   "execution_count": 4,
   "id": "9713827b",
   "metadata": {
    "execution": {
     "iopub.execute_input": "2024-05-22T19:59:03.606883Z",
     "iopub.status.busy": "2024-05-22T19:59:03.606511Z",
     "iopub.status.idle": "2024-05-22T19:59:03.635403Z",
     "shell.execute_reply": "2024-05-22T19:59:03.634311Z"
    },
    "papermill": {
     "duration": 0.047442,
     "end_time": "2024-05-22T19:59:03.637849",
     "exception": false,
     "start_time": "2024-05-22T19:59:03.590407",
     "status": "completed"
    },
    "tags": []
   },
   "outputs": [
    {
     "data": {
      "text/html": [
       "<div>\n",
       "<style scoped>\n",
       "    .dataframe tbody tr th:only-of-type {\n",
       "        vertical-align: middle;\n",
       "    }\n",
       "\n",
       "    .dataframe tbody tr th {\n",
       "        vertical-align: top;\n",
       "    }\n",
       "\n",
       "    .dataframe thead th {\n",
       "        text-align: right;\n",
       "    }\n",
       "</style>\n",
       "<table border=\"1\" class=\"dataframe\">\n",
       "  <thead>\n",
       "    <tr style=\"text-align: right;\">\n",
       "      <th></th>\n",
       "      <th>id</th>\n",
       "      <th>default</th>\n",
       "      <th>idade</th>\n",
       "      <th>sexo</th>\n",
       "      <th>dependentes</th>\n",
       "      <th>escolaridade</th>\n",
       "      <th>estado_civil</th>\n",
       "      <th>salario_anual</th>\n",
       "      <th>tipo_cartao</th>\n",
       "      <th>meses_de_relacionamento</th>\n",
       "      <th>qtd_produtos</th>\n",
       "      <th>iteracoes_12m</th>\n",
       "      <th>meses_inativo_12m</th>\n",
       "      <th>limite_credito</th>\n",
       "      <th>valor_transacoes_12m</th>\n",
       "      <th>qtd_transacoes_12m</th>\n",
       "    </tr>\n",
       "  </thead>\n",
       "  <tbody>\n",
       "    <tr>\n",
       "      <th>0</th>\n",
       "      <td>768805383</td>\n",
       "      <td>0</td>\n",
       "      <td>45</td>\n",
       "      <td>M</td>\n",
       "      <td>3</td>\n",
       "      <td>ensino medio</td>\n",
       "      <td>casado</td>\n",
       "      <td>$60K - $80K</td>\n",
       "      <td>blue</td>\n",
       "      <td>39</td>\n",
       "      <td>5</td>\n",
       "      <td>3</td>\n",
       "      <td>1</td>\n",
       "      <td>12.691,51</td>\n",
       "      <td>1.144,90</td>\n",
       "      <td>42</td>\n",
       "    </tr>\n",
       "    <tr>\n",
       "      <th>1</th>\n",
       "      <td>818770008</td>\n",
       "      <td>0</td>\n",
       "      <td>49</td>\n",
       "      <td>F</td>\n",
       "      <td>5</td>\n",
       "      <td>mestrado</td>\n",
       "      <td>solteiro</td>\n",
       "      <td>menos que $40K</td>\n",
       "      <td>blue</td>\n",
       "      <td>44</td>\n",
       "      <td>6</td>\n",
       "      <td>2</td>\n",
       "      <td>1</td>\n",
       "      <td>8.256,96</td>\n",
       "      <td>1.291,45</td>\n",
       "      <td>33</td>\n",
       "    </tr>\n",
       "    <tr>\n",
       "      <th>2</th>\n",
       "      <td>713982108</td>\n",
       "      <td>0</td>\n",
       "      <td>51</td>\n",
       "      <td>M</td>\n",
       "      <td>3</td>\n",
       "      <td>mestrado</td>\n",
       "      <td>casado</td>\n",
       "      <td>$80K - $120K</td>\n",
       "      <td>blue</td>\n",
       "      <td>36</td>\n",
       "      <td>4</td>\n",
       "      <td>0</td>\n",
       "      <td>1</td>\n",
       "      <td>3.418,56</td>\n",
       "      <td>1.887,72</td>\n",
       "      <td>20</td>\n",
       "    </tr>\n",
       "    <tr>\n",
       "      <th>3</th>\n",
       "      <td>769911858</td>\n",
       "      <td>0</td>\n",
       "      <td>40</td>\n",
       "      <td>F</td>\n",
       "      <td>4</td>\n",
       "      <td>ensino medio</td>\n",
       "      <td>NaN</td>\n",
       "      <td>menos que $40K</td>\n",
       "      <td>blue</td>\n",
       "      <td>34</td>\n",
       "      <td>3</td>\n",
       "      <td>1</td>\n",
       "      <td>4</td>\n",
       "      <td>3.313,03</td>\n",
       "      <td>1.171,56</td>\n",
       "      <td>20</td>\n",
       "    </tr>\n",
       "    <tr>\n",
       "      <th>4</th>\n",
       "      <td>709106358</td>\n",
       "      <td>0</td>\n",
       "      <td>40</td>\n",
       "      <td>M</td>\n",
       "      <td>3</td>\n",
       "      <td>sem educacao formal</td>\n",
       "      <td>casado</td>\n",
       "      <td>$60K - $80K</td>\n",
       "      <td>blue</td>\n",
       "      <td>21</td>\n",
       "      <td>5</td>\n",
       "      <td>0</td>\n",
       "      <td>1</td>\n",
       "      <td>4.716,22</td>\n",
       "      <td>816,08</td>\n",
       "      <td>28</td>\n",
       "    </tr>\n",
       "    <tr>\n",
       "      <th>5</th>\n",
       "      <td>713061558</td>\n",
       "      <td>0</td>\n",
       "      <td>44</td>\n",
       "      <td>M</td>\n",
       "      <td>2</td>\n",
       "      <td>mestrado</td>\n",
       "      <td>casado</td>\n",
       "      <td>$40K - $60K</td>\n",
       "      <td>blue</td>\n",
       "      <td>36</td>\n",
       "      <td>3</td>\n",
       "      <td>2</td>\n",
       "      <td>1</td>\n",
       "      <td>4.010,69</td>\n",
       "      <td>1.088,07</td>\n",
       "      <td>24</td>\n",
       "    </tr>\n",
       "    <tr>\n",
       "      <th>6</th>\n",
       "      <td>810347208</td>\n",
       "      <td>0</td>\n",
       "      <td>51</td>\n",
       "      <td>M</td>\n",
       "      <td>4</td>\n",
       "      <td>NaN</td>\n",
       "      <td>casado</td>\n",
       "      <td>$120K +</td>\n",
       "      <td>gold</td>\n",
       "      <td>46</td>\n",
       "      <td>6</td>\n",
       "      <td>3</td>\n",
       "      <td>1</td>\n",
       "      <td>34.516,72</td>\n",
       "      <td>1.330,87</td>\n",
       "      <td>31</td>\n",
       "    </tr>\n",
       "    <tr>\n",
       "      <th>7</th>\n",
       "      <td>818906208</td>\n",
       "      <td>0</td>\n",
       "      <td>32</td>\n",
       "      <td>M</td>\n",
       "      <td>0</td>\n",
       "      <td>ensino medio</td>\n",
       "      <td>NaN</td>\n",
       "      <td>$60K - $80K</td>\n",
       "      <td>silver</td>\n",
       "      <td>27</td>\n",
       "      <td>2</td>\n",
       "      <td>2</td>\n",
       "      <td>2</td>\n",
       "      <td>29.081,49</td>\n",
       "      <td>1.538,32</td>\n",
       "      <td>36</td>\n",
       "    </tr>\n",
       "    <tr>\n",
       "      <th>8</th>\n",
       "      <td>710930508</td>\n",
       "      <td>0</td>\n",
       "      <td>37</td>\n",
       "      <td>M</td>\n",
       "      <td>3</td>\n",
       "      <td>sem educacao formal</td>\n",
       "      <td>solteiro</td>\n",
       "      <td>$60K - $80K</td>\n",
       "      <td>blue</td>\n",
       "      <td>36</td>\n",
       "      <td>5</td>\n",
       "      <td>0</td>\n",
       "      <td>2</td>\n",
       "      <td>22.352,50</td>\n",
       "      <td>1.350,14</td>\n",
       "      <td>24</td>\n",
       "    </tr>\n",
       "    <tr>\n",
       "      <th>9</th>\n",
       "      <td>719661558</td>\n",
       "      <td>0</td>\n",
       "      <td>48</td>\n",
       "      <td>M</td>\n",
       "      <td>2</td>\n",
       "      <td>mestrado</td>\n",
       "      <td>solteiro</td>\n",
       "      <td>$80K - $120K</td>\n",
       "      <td>blue</td>\n",
       "      <td>36</td>\n",
       "      <td>6</td>\n",
       "      <td>3</td>\n",
       "      <td>3</td>\n",
       "      <td>11.656,41</td>\n",
       "      <td>1.441,73</td>\n",
       "      <td>32</td>\n",
       "    </tr>\n",
       "    <tr>\n",
       "      <th>10</th>\n",
       "      <td>708790833</td>\n",
       "      <td>0</td>\n",
       "      <td>42</td>\n",
       "      <td>M</td>\n",
       "      <td>5</td>\n",
       "      <td>sem educacao formal</td>\n",
       "      <td>NaN</td>\n",
       "      <td>$120K +</td>\n",
       "      <td>blue</td>\n",
       "      <td>31</td>\n",
       "      <td>5</td>\n",
       "      <td>2</td>\n",
       "      <td>3</td>\n",
       "      <td>6.748,40</td>\n",
       "      <td>1.201,27</td>\n",
       "      <td>42</td>\n",
       "    </tr>\n",
       "    <tr>\n",
       "      <th>11</th>\n",
       "      <td>710821833</td>\n",
       "      <td>0</td>\n",
       "      <td>65</td>\n",
       "      <td>M</td>\n",
       "      <td>1</td>\n",
       "      <td>NaN</td>\n",
       "      <td>casado</td>\n",
       "      <td>$40K - $60K</td>\n",
       "      <td>blue</td>\n",
       "      <td>54</td>\n",
       "      <td>6</td>\n",
       "      <td>3</td>\n",
       "      <td>2</td>\n",
       "      <td>9.095,59</td>\n",
       "      <td>1.314,42</td>\n",
       "      <td>26</td>\n",
       "    </tr>\n",
       "    <tr>\n",
       "      <th>12</th>\n",
       "      <td>710599683</td>\n",
       "      <td>0</td>\n",
       "      <td>56</td>\n",
       "      <td>M</td>\n",
       "      <td>1</td>\n",
       "      <td>graduacao</td>\n",
       "      <td>solteiro</td>\n",
       "      <td>$80K - $120K</td>\n",
       "      <td>blue</td>\n",
       "      <td>36</td>\n",
       "      <td>3</td>\n",
       "      <td>0</td>\n",
       "      <td>6</td>\n",
       "      <td>11.751,09</td>\n",
       "      <td>1.539,95</td>\n",
       "      <td>17</td>\n",
       "    </tr>\n",
       "    <tr>\n",
       "      <th>13</th>\n",
       "      <td>816082233</td>\n",
       "      <td>0</td>\n",
       "      <td>35</td>\n",
       "      <td>M</td>\n",
       "      <td>3</td>\n",
       "      <td>mestrado</td>\n",
       "      <td>NaN</td>\n",
       "      <td>$60K - $80K</td>\n",
       "      <td>blue</td>\n",
       "      <td>30</td>\n",
       "      <td>5</td>\n",
       "      <td>3</td>\n",
       "      <td>1</td>\n",
       "      <td>8.547,74</td>\n",
       "      <td>1.311,48</td>\n",
       "      <td>33</td>\n",
       "    </tr>\n",
       "    <tr>\n",
       "      <th>14</th>\n",
       "      <td>712396908</td>\n",
       "      <td>0</td>\n",
       "      <td>57</td>\n",
       "      <td>F</td>\n",
       "      <td>2</td>\n",
       "      <td>mestrado</td>\n",
       "      <td>casado</td>\n",
       "      <td>menos que $40K</td>\n",
       "      <td>blue</td>\n",
       "      <td>48</td>\n",
       "      <td>5</td>\n",
       "      <td>2</td>\n",
       "      <td>2</td>\n",
       "      <td>2.436,00</td>\n",
       "      <td>1.570,23</td>\n",
       "      <td>29</td>\n",
       "    </tr>\n",
       "    <tr>\n",
       "      <th>15</th>\n",
       "      <td>714885258</td>\n",
       "      <td>0</td>\n",
       "      <td>44</td>\n",
       "      <td>M</td>\n",
       "      <td>4</td>\n",
       "      <td>NaN</td>\n",
       "      <td>NaN</td>\n",
       "      <td>$80K - $120K</td>\n",
       "      <td>blue</td>\n",
       "      <td>37</td>\n",
       "      <td>5</td>\n",
       "      <td>2</td>\n",
       "      <td>1</td>\n",
       "      <td>4.234,96</td>\n",
       "      <td>1.348,10</td>\n",
       "      <td>27</td>\n",
       "    </tr>\n",
       "  </tbody>\n",
       "</table>\n",
       "</div>"
      ],
      "text/plain": [
       "           id  default  idade sexo  dependentes         escolaridade  \\\n",
       "0   768805383        0     45    M            3         ensino medio   \n",
       "1   818770008        0     49    F            5             mestrado   \n",
       "2   713982108        0     51    M            3             mestrado   \n",
       "3   769911858        0     40    F            4         ensino medio   \n",
       "4   709106358        0     40    M            3  sem educacao formal   \n",
       "5   713061558        0     44    M            2             mestrado   \n",
       "6   810347208        0     51    M            4                  NaN   \n",
       "7   818906208        0     32    M            0         ensino medio   \n",
       "8   710930508        0     37    M            3  sem educacao formal   \n",
       "9   719661558        0     48    M            2             mestrado   \n",
       "10  708790833        0     42    M            5  sem educacao formal   \n",
       "11  710821833        0     65    M            1                  NaN   \n",
       "12  710599683        0     56    M            1            graduacao   \n",
       "13  816082233        0     35    M            3             mestrado   \n",
       "14  712396908        0     57    F            2             mestrado   \n",
       "15  714885258        0     44    M            4                  NaN   \n",
       "\n",
       "   estado_civil   salario_anual tipo_cartao  meses_de_relacionamento  \\\n",
       "0        casado     $60K - $80K        blue                       39   \n",
       "1      solteiro  menos que $40K        blue                       44   \n",
       "2        casado    $80K - $120K        blue                       36   \n",
       "3           NaN  menos que $40K        blue                       34   \n",
       "4        casado     $60K - $80K        blue                       21   \n",
       "5        casado     $40K - $60K        blue                       36   \n",
       "6        casado         $120K +        gold                       46   \n",
       "7           NaN     $60K - $80K      silver                       27   \n",
       "8      solteiro     $60K - $80K        blue                       36   \n",
       "9      solteiro    $80K - $120K        blue                       36   \n",
       "10          NaN         $120K +        blue                       31   \n",
       "11       casado     $40K - $60K        blue                       54   \n",
       "12     solteiro    $80K - $120K        blue                       36   \n",
       "13          NaN     $60K - $80K        blue                       30   \n",
       "14       casado  menos que $40K        blue                       48   \n",
       "15          NaN    $80K - $120K        blue                       37   \n",
       "\n",
       "    qtd_produtos  iteracoes_12m  meses_inativo_12m limite_credito  \\\n",
       "0              5              3                  1      12.691,51   \n",
       "1              6              2                  1       8.256,96   \n",
       "2              4              0                  1       3.418,56   \n",
       "3              3              1                  4       3.313,03   \n",
       "4              5              0                  1       4.716,22   \n",
       "5              3              2                  1       4.010,69   \n",
       "6              6              3                  1      34.516,72   \n",
       "7              2              2                  2      29.081,49   \n",
       "8              5              0                  2      22.352,50   \n",
       "9              6              3                  3      11.656,41   \n",
       "10             5              2                  3       6.748,40   \n",
       "11             6              3                  2       9.095,59   \n",
       "12             3              0                  6      11.751,09   \n",
       "13             5              3                  1       8.547,74   \n",
       "14             5              2                  2       2.436,00   \n",
       "15             5              2                  1       4.234,96   \n",
       "\n",
       "   valor_transacoes_12m  qtd_transacoes_12m  \n",
       "0              1.144,90                  42  \n",
       "1              1.291,45                  33  \n",
       "2              1.887,72                  20  \n",
       "3              1.171,56                  20  \n",
       "4                816,08                  28  \n",
       "5              1.088,07                  24  \n",
       "6              1.330,87                  31  \n",
       "7              1.538,32                  36  \n",
       "8              1.350,14                  24  \n",
       "9              1.441,73                  32  \n",
       "10             1.201,27                  42  \n",
       "11             1.314,42                  26  \n",
       "12             1.539,95                  17  \n",
       "13             1.311,48                  33  \n",
       "14             1.570,23                  29  \n",
       "15             1.348,10                  27  "
      ]
     },
     "execution_count": 4,
     "metadata": {},
     "output_type": "execute_result"
    }
   ],
   "source": [
    "df.head(16)"
   ]
  },
  {
   "cell_type": "markdown",
   "id": "471852cc",
   "metadata": {
    "papermill": {
     "duration": 0.014177,
     "end_time": "2024-05-22T19:59:03.666782",
     "exception": false,
     "start_time": "2024-05-22T19:59:03.652605",
     "status": "completed"
    },
    "tags": []
   },
   "source": [
    "**2.1 Estrutura do dataframe**"
   ]
  },
  {
   "cell_type": "code",
   "execution_count": 5,
   "id": "778dac70",
   "metadata": {
    "execution": {
     "iopub.execute_input": "2024-05-22T19:59:03.697156Z",
     "iopub.status.busy": "2024-05-22T19:59:03.696800Z",
     "iopub.status.idle": "2024-05-22T19:59:03.703269Z",
     "shell.execute_reply": "2024-05-22T19:59:03.702277Z"
    },
    "papermill": {
     "duration": 0.024393,
     "end_time": "2024-05-22T19:59:03.705553",
     "exception": false,
     "start_time": "2024-05-22T19:59:03.681160",
     "status": "completed"
    },
    "tags": []
   },
   "outputs": [
    {
     "data": {
      "text/plain": [
       "(10127, 16)"
      ]
     },
     "execution_count": 5,
     "metadata": {},
     "output_type": "execute_result"
    }
   ],
   "source": [
    "#Quantidade total de linhas e colunas.\n",
    "df.shape"
   ]
  },
  {
   "cell_type": "code",
   "execution_count": 6,
   "id": "ef39c4e1",
   "metadata": {
    "execution": {
     "iopub.execute_input": "2024-05-22T19:59:03.736950Z",
     "iopub.status.busy": "2024-05-22T19:59:03.736154Z",
     "iopub.status.idle": "2024-05-22T19:59:03.748368Z",
     "shell.execute_reply": "2024-05-22T19:59:03.747336Z"
    },
    "papermill": {
     "duration": 0.030274,
     "end_time": "2024-05-22T19:59:03.750758",
     "exception": false,
     "start_time": "2024-05-22T19:59:03.720484",
     "status": "completed"
    },
    "tags": []
   },
   "outputs": [
    {
     "data": {
      "text/plain": [
       "(8500, 16)"
      ]
     },
     "execution_count": 6,
     "metadata": {},
     "output_type": "execute_result"
    }
   ],
   "source": [
    "#Quantidade de linhas e colunas da categoria adimplentes.\n",
    "df[df['default'] == 0].shape"
   ]
  },
  {
   "cell_type": "code",
   "execution_count": 7,
   "id": "9d0a19de",
   "metadata": {
    "execution": {
     "iopub.execute_input": "2024-05-22T19:59:03.781900Z",
     "iopub.status.busy": "2024-05-22T19:59:03.781504Z",
     "iopub.status.idle": "2024-05-22T19:59:03.790116Z",
     "shell.execute_reply": "2024-05-22T19:59:03.788955Z"
    },
    "papermill": {
     "duration": 0.026728,
     "end_time": "2024-05-22T19:59:03.792415",
     "exception": false,
     "start_time": "2024-05-22T19:59:03.765687",
     "status": "completed"
    },
    "tags": []
   },
   "outputs": [
    {
     "data": {
      "text/plain": [
       "(1627, 16)"
      ]
     },
     "execution_count": 7,
     "metadata": {},
     "output_type": "execute_result"
    }
   ],
   "source": [
    "#Quantidade de linhas e colunas da categoria inadimplentes.\n",
    "df[df['default'] == 1].shape"
   ]
  },
  {
   "cell_type": "code",
   "execution_count": 8,
   "id": "2ece7fbc",
   "metadata": {
    "execution": {
     "iopub.execute_input": "2024-05-22T19:59:03.824890Z",
     "iopub.status.busy": "2024-05-22T19:59:03.823600Z",
     "iopub.status.idle": "2024-05-22T19:59:03.832823Z",
     "shell.execute_reply": "2024-05-22T19:59:03.831874Z"
    },
    "papermill": {
     "duration": 0.027935,
     "end_time": "2024-05-22T19:59:03.835247",
     "exception": false,
     "start_time": "2024-05-22T19:59:03.807312",
     "status": "completed"
    },
    "tags": []
   },
   "outputs": [],
   "source": [
    "qtd_total, _ = df.shape\n",
    "qtd_adimplentes, _ = df[df['default'] == 0].shape\n",
    "qtd_inadimplentes, _ = df[df['default'] == 1].shape"
   ]
  },
  {
   "cell_type": "code",
   "execution_count": 9,
   "id": "61972a48",
   "metadata": {
    "execution": {
     "iopub.execute_input": "2024-05-22T19:59:03.866973Z",
     "iopub.status.busy": "2024-05-22T19:59:03.866591Z",
     "iopub.status.idle": "2024-05-22T19:59:03.871938Z",
     "shell.execute_reply": "2024-05-22T19:59:03.870828Z"
    },
    "papermill": {
     "duration": 0.024158,
     "end_time": "2024-05-22T19:59:03.874588",
     "exception": false,
     "start_time": "2024-05-22T19:59:03.850430",
     "status": "completed"
    },
    "tags": []
   },
   "outputs": [
    {
     "name": "stdout",
     "output_type": "stream",
     "text": [
      "A porcentagem de clientes adimplentes é de: 83.93%\n",
      "A porcentagem de clientes inadimplentes é de: 16.07%\n"
     ]
    }
   ],
   "source": [
    "print(f'A porcentagem de clientes adimplentes é de: {round(100 * qtd_adimplentes / qtd_total, 2)}%') \n",
    "print(f'A porcentagem de clientes inadimplentes é de: {round(100 * qtd_inadimplentes / qtd_total, 2)}%')"
   ]
  },
  {
   "cell_type": "markdown",
   "id": "1f10bf4c",
   "metadata": {
    "papermill": {
     "duration": 0.014453,
     "end_time": "2024-05-22T19:59:03.904116",
     "exception": false,
     "start_time": "2024-05-22T19:59:03.889663",
     "status": "completed"
    },
    "tags": []
   },
   "source": [
    "**Vamos explorar as colunas do dataframe e seus respectivos tipos de dados.**\n",
    "\n",
    "Iremos agora explorar as colunas para averiguar se os tipos estão adequados a coluna. Aqui teremos uma noção maior de qual mainupilação na tipagem precisará ser feita."
   ]
  },
  {
   "cell_type": "code",
   "execution_count": 10,
   "id": "8a25d52a",
   "metadata": {
    "execution": {
     "iopub.execute_input": "2024-05-22T19:59:03.935347Z",
     "iopub.status.busy": "2024-05-22T19:59:03.934940Z",
     "iopub.status.idle": "2024-05-22T19:59:03.943242Z",
     "shell.execute_reply": "2024-05-22T19:59:03.942226Z"
    },
    "papermill": {
     "duration": 0.026543,
     "end_time": "2024-05-22T19:59:03.945479",
     "exception": false,
     "start_time": "2024-05-22T19:59:03.918936",
     "status": "completed"
    },
    "tags": []
   },
   "outputs": [
    {
     "data": {
      "text/plain": [
       "id                          int64\n",
       "default                     int64\n",
       "idade                       int64\n",
       "sexo                       object\n",
       "dependentes                 int64\n",
       "escolaridade               object\n",
       "estado_civil               object\n",
       "salario_anual              object\n",
       "tipo_cartao                object\n",
       "meses_de_relacionamento     int64\n",
       "qtd_produtos                int64\n",
       "iteracoes_12m               int64\n",
       "meses_inativo_12m           int64\n",
       "limite_credito             object\n",
       "valor_transacoes_12m       object\n",
       "qtd_transacoes_12m          int64\n",
       "dtype: object"
      ]
     },
     "execution_count": 10,
     "metadata": {},
     "output_type": "execute_result"
    }
   ],
   "source": [
    "df.dtypes"
   ]
  },
  {
   "cell_type": "markdown",
   "id": "4f0078f8",
   "metadata": {
    "papermill": {
     "duration": 0.014715,
     "end_time": "2024-05-22T19:59:03.975112",
     "exception": false,
     "start_time": "2024-05-22T19:59:03.960397",
     "status": "completed"
    },
    "tags": []
   },
   "source": [
    "Quem já tem alguma experiencia logo percebe que a coluna **limite_credito** e **valor_transacoes_12m** não deveriam estar listados como dados categóricos (object). Segue abaixo um data frame para deixar isso mais evidente."
   ]
  },
  {
   "cell_type": "code",
   "execution_count": 11,
   "id": "12f2a827",
   "metadata": {
    "execution": {
     "iopub.execute_input": "2024-05-22T19:59:04.006428Z",
     "iopub.status.busy": "2024-05-22T19:59:04.006056Z",
     "iopub.status.idle": "2024-05-22T19:59:04.048719Z",
     "shell.execute_reply": "2024-05-22T19:59:04.047709Z"
    },
    "papermill": {
     "duration": 0.061153,
     "end_time": "2024-05-22T19:59:04.051070",
     "exception": false,
     "start_time": "2024-05-22T19:59:03.989917",
     "status": "completed"
    },
    "tags": []
   },
   "outputs": [
    {
     "data": {
      "text/html": [
       "<div>\n",
       "<style scoped>\n",
       "    .dataframe tbody tr th:only-of-type {\n",
       "        vertical-align: middle;\n",
       "    }\n",
       "\n",
       "    .dataframe tbody tr th {\n",
       "        vertical-align: top;\n",
       "    }\n",
       "\n",
       "    .dataframe thead th {\n",
       "        text-align: right;\n",
       "    }\n",
       "</style>\n",
       "<table border=\"1\" class=\"dataframe\">\n",
       "  <thead>\n",
       "    <tr style=\"text-align: right;\">\n",
       "      <th></th>\n",
       "      <th>count</th>\n",
       "      <th>unique</th>\n",
       "      <th>top</th>\n",
       "      <th>freq</th>\n",
       "    </tr>\n",
       "  </thead>\n",
       "  <tbody>\n",
       "    <tr>\n",
       "      <th>sexo</th>\n",
       "      <td>10127</td>\n",
       "      <td>2</td>\n",
       "      <td>F</td>\n",
       "      <td>5358</td>\n",
       "    </tr>\n",
       "    <tr>\n",
       "      <th>escolaridade</th>\n",
       "      <td>8608</td>\n",
       "      <td>5</td>\n",
       "      <td>mestrado</td>\n",
       "      <td>3128</td>\n",
       "    </tr>\n",
       "    <tr>\n",
       "      <th>estado_civil</th>\n",
       "      <td>9378</td>\n",
       "      <td>3</td>\n",
       "      <td>casado</td>\n",
       "      <td>4687</td>\n",
       "    </tr>\n",
       "    <tr>\n",
       "      <th>salario_anual</th>\n",
       "      <td>9015</td>\n",
       "      <td>5</td>\n",
       "      <td>menos que $40K</td>\n",
       "      <td>3561</td>\n",
       "    </tr>\n",
       "    <tr>\n",
       "      <th>tipo_cartao</th>\n",
       "      <td>10127</td>\n",
       "      <td>4</td>\n",
       "      <td>blue</td>\n",
       "      <td>9436</td>\n",
       "    </tr>\n",
       "    <tr>\n",
       "      <th>limite_credito</th>\n",
       "      <td>10127</td>\n",
       "      <td>9272</td>\n",
       "      <td>1.438,21</td>\n",
       "      <td>11</td>\n",
       "    </tr>\n",
       "    <tr>\n",
       "      <th>valor_transacoes_12m</th>\n",
       "      <td>10127</td>\n",
       "      <td>10035</td>\n",
       "      <td>3.851,51</td>\n",
       "      <td>3</td>\n",
       "    </tr>\n",
       "  </tbody>\n",
       "</table>\n",
       "</div>"
      ],
      "text/plain": [
       "                      count unique             top  freq\n",
       "sexo                  10127      2               F  5358\n",
       "escolaridade           8608      5        mestrado  3128\n",
       "estado_civil           9378      3          casado  4687\n",
       "salario_anual          9015      5  menos que $40K  3561\n",
       "tipo_cartao           10127      4            blue  9436\n",
       "limite_credito        10127   9272        1.438,21    11\n",
       "valor_transacoes_12m  10127  10035        3.851,51     3"
      ]
     },
     "execution_count": 11,
     "metadata": {},
     "output_type": "execute_result"
    }
   ],
   "source": [
    "df.select_dtypes('object').describe().transpose()"
   ]
  },
  {
   "cell_type": "markdown",
   "id": "f874e1e5",
   "metadata": {
    "papermill": {
     "duration": 0.014777,
     "end_time": "2024-05-22T19:59:04.080994",
     "exception": false,
     "start_time": "2024-05-22T19:59:04.066217",
     "status": "completed"
    },
    "tags": []
   },
   "source": [
    "* Atributos categóricos são atributos limitados e que descrevem uma categoria (gênero, escolaridade, etc). Sabendo disso fica evidente que colunas como **limite_credito** e **valor_treansacoes_12m** não se enquadram na categoria."
   ]
  },
  {
   "cell_type": "markdown",
   "id": "93279ace",
   "metadata": {
    "papermill": {
     "duration": 0.072961,
     "end_time": "2024-05-22T19:59:04.169108",
     "exception": false,
     "start_time": "2024-05-22T19:59:04.096147",
     "status": "completed"
    },
    "tags": []
   },
   "source": [
    "* Atributos do tipo númerico são todos que ultizam números."
   ]
  },
  {
   "cell_type": "code",
   "execution_count": 12,
   "id": "5ee45621",
   "metadata": {
    "execution": {
     "iopub.execute_input": "2024-05-22T19:59:04.201377Z",
     "iopub.status.busy": "2024-05-22T19:59:04.200568Z",
     "iopub.status.idle": "2024-05-22T19:59:04.240824Z",
     "shell.execute_reply": "2024-05-22T19:59:04.239827Z"
    },
    "papermill": {
     "duration": 0.058845,
     "end_time": "2024-05-22T19:59:04.243044",
     "exception": false,
     "start_time": "2024-05-22T19:59:04.184199",
     "status": "completed"
    },
    "tags": []
   },
   "outputs": [
    {
     "data": {
      "text/html": [
       "<div>\n",
       "<style scoped>\n",
       "    .dataframe tbody tr th:only-of-type {\n",
       "        vertical-align: middle;\n",
       "    }\n",
       "\n",
       "    .dataframe tbody tr th {\n",
       "        vertical-align: top;\n",
       "    }\n",
       "\n",
       "    .dataframe thead th {\n",
       "        text-align: right;\n",
       "    }\n",
       "</style>\n",
       "<table border=\"1\" class=\"dataframe\">\n",
       "  <thead>\n",
       "    <tr style=\"text-align: right;\">\n",
       "      <th></th>\n",
       "      <th>count</th>\n",
       "      <th>mean</th>\n",
       "      <th>std</th>\n",
       "      <th>min</th>\n",
       "      <th>25%</th>\n",
       "      <th>50%</th>\n",
       "      <th>75%</th>\n",
       "      <th>max</th>\n",
       "    </tr>\n",
       "  </thead>\n",
       "  <tbody>\n",
       "    <tr>\n",
       "      <th>default</th>\n",
       "      <td>10127.0</td>\n",
       "      <td>0.160660</td>\n",
       "      <td>0.367235</td>\n",
       "      <td>0.0</td>\n",
       "      <td>0.0</td>\n",
       "      <td>0.0</td>\n",
       "      <td>0.0</td>\n",
       "      <td>1.0</td>\n",
       "    </tr>\n",
       "    <tr>\n",
       "      <th>idade</th>\n",
       "      <td>10127.0</td>\n",
       "      <td>46.325960</td>\n",
       "      <td>8.016814</td>\n",
       "      <td>26.0</td>\n",
       "      <td>41.0</td>\n",
       "      <td>46.0</td>\n",
       "      <td>52.0</td>\n",
       "      <td>73.0</td>\n",
       "    </tr>\n",
       "    <tr>\n",
       "      <th>dependentes</th>\n",
       "      <td>10127.0</td>\n",
       "      <td>2.346203</td>\n",
       "      <td>1.298908</td>\n",
       "      <td>0.0</td>\n",
       "      <td>1.0</td>\n",
       "      <td>2.0</td>\n",
       "      <td>3.0</td>\n",
       "      <td>5.0</td>\n",
       "    </tr>\n",
       "    <tr>\n",
       "      <th>meses_de_relacionamento</th>\n",
       "      <td>10127.0</td>\n",
       "      <td>35.928409</td>\n",
       "      <td>7.986416</td>\n",
       "      <td>13.0</td>\n",
       "      <td>31.0</td>\n",
       "      <td>36.0</td>\n",
       "      <td>40.0</td>\n",
       "      <td>56.0</td>\n",
       "    </tr>\n",
       "    <tr>\n",
       "      <th>qtd_produtos</th>\n",
       "      <td>10127.0</td>\n",
       "      <td>3.812580</td>\n",
       "      <td>1.554408</td>\n",
       "      <td>1.0</td>\n",
       "      <td>3.0</td>\n",
       "      <td>4.0</td>\n",
       "      <td>5.0</td>\n",
       "      <td>6.0</td>\n",
       "    </tr>\n",
       "    <tr>\n",
       "      <th>iteracoes_12m</th>\n",
       "      <td>10127.0</td>\n",
       "      <td>2.455317</td>\n",
       "      <td>1.106225</td>\n",
       "      <td>0.0</td>\n",
       "      <td>2.0</td>\n",
       "      <td>2.0</td>\n",
       "      <td>3.0</td>\n",
       "      <td>6.0</td>\n",
       "    </tr>\n",
       "    <tr>\n",
       "      <th>meses_inativo_12m</th>\n",
       "      <td>10127.0</td>\n",
       "      <td>2.341167</td>\n",
       "      <td>1.010622</td>\n",
       "      <td>0.0</td>\n",
       "      <td>2.0</td>\n",
       "      <td>2.0</td>\n",
       "      <td>3.0</td>\n",
       "      <td>6.0</td>\n",
       "    </tr>\n",
       "    <tr>\n",
       "      <th>qtd_transacoes_12m</th>\n",
       "      <td>10127.0</td>\n",
       "      <td>64.858695</td>\n",
       "      <td>23.472570</td>\n",
       "      <td>10.0</td>\n",
       "      <td>45.0</td>\n",
       "      <td>67.0</td>\n",
       "      <td>81.0</td>\n",
       "      <td>139.0</td>\n",
       "    </tr>\n",
       "  </tbody>\n",
       "</table>\n",
       "</div>"
      ],
      "text/plain": [
       "                           count       mean        std   min   25%   50%  \\\n",
       "default                  10127.0   0.160660   0.367235   0.0   0.0   0.0   \n",
       "idade                    10127.0  46.325960   8.016814  26.0  41.0  46.0   \n",
       "dependentes              10127.0   2.346203   1.298908   0.0   1.0   2.0   \n",
       "meses_de_relacionamento  10127.0  35.928409   7.986416  13.0  31.0  36.0   \n",
       "qtd_produtos             10127.0   3.812580   1.554408   1.0   3.0   4.0   \n",
       "iteracoes_12m            10127.0   2.455317   1.106225   0.0   2.0   2.0   \n",
       "meses_inativo_12m        10127.0   2.341167   1.010622   0.0   2.0   2.0   \n",
       "qtd_transacoes_12m       10127.0  64.858695  23.472570  10.0  45.0  67.0   \n",
       "\n",
       "                          75%    max  \n",
       "default                   0.0    1.0  \n",
       "idade                    52.0   73.0  \n",
       "dependentes               3.0    5.0  \n",
       "meses_de_relacionamento  40.0   56.0  \n",
       "qtd_produtos              5.0    6.0  \n",
       "iteracoes_12m             3.0    6.0  \n",
       "meses_inativo_12m         3.0    6.0  \n",
       "qtd_transacoes_12m       81.0  139.0  "
      ]
     },
     "execution_count": 12,
     "metadata": {},
     "output_type": "execute_result"
    }
   ],
   "source": [
    "df.drop('id', axis=1).select_dtypes('number').describe().transpose()"
   ]
  },
  {
   "cell_type": "markdown",
   "id": "2d8f1063",
   "metadata": {
    "papermill": {
     "duration": 0.015053,
     "end_time": "2024-05-22T19:59:04.273584",
     "exception": false,
     "start_time": "2024-05-22T19:59:04.258531",
     "status": "completed"
    },
    "tags": []
   },
   "source": [
    "**Dados faltantes:**\n",
    "\n",
    "Ao plotar o dataframe percebemos algumas linhas com dados faltantes, eles estão representados por ***NaN***. Veja abaixo:"
   ]
  },
  {
   "cell_type": "code",
   "execution_count": 13,
   "id": "e5d877da",
   "metadata": {
    "execution": {
     "iopub.execute_input": "2024-05-22T19:59:04.306081Z",
     "iopub.status.busy": "2024-05-22T19:59:04.305711Z",
     "iopub.status.idle": "2024-05-22T19:59:04.326323Z",
     "shell.execute_reply": "2024-05-22T19:59:04.325276Z"
    },
    "papermill": {
     "duration": 0.039456,
     "end_time": "2024-05-22T19:59:04.328511",
     "exception": false,
     "start_time": "2024-05-22T19:59:04.289055",
     "status": "completed"
    },
    "tags": []
   },
   "outputs": [
    {
     "data": {
      "text/html": [
       "<div>\n",
       "<style scoped>\n",
       "    .dataframe tbody tr th:only-of-type {\n",
       "        vertical-align: middle;\n",
       "    }\n",
       "\n",
       "    .dataframe tbody tr th {\n",
       "        vertical-align: top;\n",
       "    }\n",
       "\n",
       "    .dataframe thead th {\n",
       "        text-align: right;\n",
       "    }\n",
       "</style>\n",
       "<table border=\"1\" class=\"dataframe\">\n",
       "  <thead>\n",
       "    <tr style=\"text-align: right;\">\n",
       "      <th></th>\n",
       "      <th>id</th>\n",
       "      <th>default</th>\n",
       "      <th>idade</th>\n",
       "      <th>sexo</th>\n",
       "      <th>dependentes</th>\n",
       "      <th>escolaridade</th>\n",
       "      <th>estado_civil</th>\n",
       "      <th>salario_anual</th>\n",
       "      <th>tipo_cartao</th>\n",
       "      <th>meses_de_relacionamento</th>\n",
       "      <th>qtd_produtos</th>\n",
       "      <th>iteracoes_12m</th>\n",
       "      <th>meses_inativo_12m</th>\n",
       "      <th>limite_credito</th>\n",
       "      <th>valor_transacoes_12m</th>\n",
       "      <th>qtd_transacoes_12m</th>\n",
       "    </tr>\n",
       "  </thead>\n",
       "  <tbody>\n",
       "    <tr>\n",
       "      <th>0</th>\n",
       "      <td>768805383</td>\n",
       "      <td>0</td>\n",
       "      <td>45</td>\n",
       "      <td>M</td>\n",
       "      <td>3</td>\n",
       "      <td>ensino medio</td>\n",
       "      <td>casado</td>\n",
       "      <td>$60K - $80K</td>\n",
       "      <td>blue</td>\n",
       "      <td>39</td>\n",
       "      <td>5</td>\n",
       "      <td>3</td>\n",
       "      <td>1</td>\n",
       "      <td>12.691,51</td>\n",
       "      <td>1.144,90</td>\n",
       "      <td>42</td>\n",
       "    </tr>\n",
       "    <tr>\n",
       "      <th>1</th>\n",
       "      <td>818770008</td>\n",
       "      <td>0</td>\n",
       "      <td>49</td>\n",
       "      <td>F</td>\n",
       "      <td>5</td>\n",
       "      <td>mestrado</td>\n",
       "      <td>solteiro</td>\n",
       "      <td>menos que $40K</td>\n",
       "      <td>blue</td>\n",
       "      <td>44</td>\n",
       "      <td>6</td>\n",
       "      <td>2</td>\n",
       "      <td>1</td>\n",
       "      <td>8.256,96</td>\n",
       "      <td>1.291,45</td>\n",
       "      <td>33</td>\n",
       "    </tr>\n",
       "    <tr>\n",
       "      <th>2</th>\n",
       "      <td>713982108</td>\n",
       "      <td>0</td>\n",
       "      <td>51</td>\n",
       "      <td>M</td>\n",
       "      <td>3</td>\n",
       "      <td>mestrado</td>\n",
       "      <td>casado</td>\n",
       "      <td>$80K - $120K</td>\n",
       "      <td>blue</td>\n",
       "      <td>36</td>\n",
       "      <td>4</td>\n",
       "      <td>0</td>\n",
       "      <td>1</td>\n",
       "      <td>3.418,56</td>\n",
       "      <td>1.887,72</td>\n",
       "      <td>20</td>\n",
       "    </tr>\n",
       "    <tr>\n",
       "      <th>3</th>\n",
       "      <td>769911858</td>\n",
       "      <td>0</td>\n",
       "      <td>40</td>\n",
       "      <td>F</td>\n",
       "      <td>4</td>\n",
       "      <td>ensino medio</td>\n",
       "      <td>NaN</td>\n",
       "      <td>menos que $40K</td>\n",
       "      <td>blue</td>\n",
       "      <td>34</td>\n",
       "      <td>3</td>\n",
       "      <td>1</td>\n",
       "      <td>4</td>\n",
       "      <td>3.313,03</td>\n",
       "      <td>1.171,56</td>\n",
       "      <td>20</td>\n",
       "    </tr>\n",
       "    <tr>\n",
       "      <th>4</th>\n",
       "      <td>709106358</td>\n",
       "      <td>0</td>\n",
       "      <td>40</td>\n",
       "      <td>M</td>\n",
       "      <td>3</td>\n",
       "      <td>sem educacao formal</td>\n",
       "      <td>casado</td>\n",
       "      <td>$60K - $80K</td>\n",
       "      <td>blue</td>\n",
       "      <td>21</td>\n",
       "      <td>5</td>\n",
       "      <td>0</td>\n",
       "      <td>1</td>\n",
       "      <td>4.716,22</td>\n",
       "      <td>816,08</td>\n",
       "      <td>28</td>\n",
       "    </tr>\n",
       "    <tr>\n",
       "      <th>5</th>\n",
       "      <td>713061558</td>\n",
       "      <td>0</td>\n",
       "      <td>44</td>\n",
       "      <td>M</td>\n",
       "      <td>2</td>\n",
       "      <td>mestrado</td>\n",
       "      <td>casado</td>\n",
       "      <td>$40K - $60K</td>\n",
       "      <td>blue</td>\n",
       "      <td>36</td>\n",
       "      <td>3</td>\n",
       "      <td>2</td>\n",
       "      <td>1</td>\n",
       "      <td>4.010,69</td>\n",
       "      <td>1.088,07</td>\n",
       "      <td>24</td>\n",
       "    </tr>\n",
       "    <tr>\n",
       "      <th>6</th>\n",
       "      <td>810347208</td>\n",
       "      <td>0</td>\n",
       "      <td>51</td>\n",
       "      <td>M</td>\n",
       "      <td>4</td>\n",
       "      <td>NaN</td>\n",
       "      <td>casado</td>\n",
       "      <td>$120K +</td>\n",
       "      <td>gold</td>\n",
       "      <td>46</td>\n",
       "      <td>6</td>\n",
       "      <td>3</td>\n",
       "      <td>1</td>\n",
       "      <td>34.516,72</td>\n",
       "      <td>1.330,87</td>\n",
       "      <td>31</td>\n",
       "    </tr>\n",
       "    <tr>\n",
       "      <th>7</th>\n",
       "      <td>818906208</td>\n",
       "      <td>0</td>\n",
       "      <td>32</td>\n",
       "      <td>M</td>\n",
       "      <td>0</td>\n",
       "      <td>ensino medio</td>\n",
       "      <td>NaN</td>\n",
       "      <td>$60K - $80K</td>\n",
       "      <td>silver</td>\n",
       "      <td>27</td>\n",
       "      <td>2</td>\n",
       "      <td>2</td>\n",
       "      <td>2</td>\n",
       "      <td>29.081,49</td>\n",
       "      <td>1.538,32</td>\n",
       "      <td>36</td>\n",
       "    </tr>\n",
       "    <tr>\n",
       "      <th>8</th>\n",
       "      <td>710930508</td>\n",
       "      <td>0</td>\n",
       "      <td>37</td>\n",
       "      <td>M</td>\n",
       "      <td>3</td>\n",
       "      <td>sem educacao formal</td>\n",
       "      <td>solteiro</td>\n",
       "      <td>$60K - $80K</td>\n",
       "      <td>blue</td>\n",
       "      <td>36</td>\n",
       "      <td>5</td>\n",
       "      <td>0</td>\n",
       "      <td>2</td>\n",
       "      <td>22.352,50</td>\n",
       "      <td>1.350,14</td>\n",
       "      <td>24</td>\n",
       "    </tr>\n",
       "    <tr>\n",
       "      <th>9</th>\n",
       "      <td>719661558</td>\n",
       "      <td>0</td>\n",
       "      <td>48</td>\n",
       "      <td>M</td>\n",
       "      <td>2</td>\n",
       "      <td>mestrado</td>\n",
       "      <td>solteiro</td>\n",
       "      <td>$80K - $120K</td>\n",
       "      <td>blue</td>\n",
       "      <td>36</td>\n",
       "      <td>6</td>\n",
       "      <td>3</td>\n",
       "      <td>3</td>\n",
       "      <td>11.656,41</td>\n",
       "      <td>1.441,73</td>\n",
       "      <td>32</td>\n",
       "    </tr>\n",
       "    <tr>\n",
       "      <th>10</th>\n",
       "      <td>708790833</td>\n",
       "      <td>0</td>\n",
       "      <td>42</td>\n",
       "      <td>M</td>\n",
       "      <td>5</td>\n",
       "      <td>sem educacao formal</td>\n",
       "      <td>NaN</td>\n",
       "      <td>$120K +</td>\n",
       "      <td>blue</td>\n",
       "      <td>31</td>\n",
       "      <td>5</td>\n",
       "      <td>2</td>\n",
       "      <td>3</td>\n",
       "      <td>6.748,40</td>\n",
       "      <td>1.201,27</td>\n",
       "      <td>42</td>\n",
       "    </tr>\n",
       "    <tr>\n",
       "      <th>11</th>\n",
       "      <td>710821833</td>\n",
       "      <td>0</td>\n",
       "      <td>65</td>\n",
       "      <td>M</td>\n",
       "      <td>1</td>\n",
       "      <td>NaN</td>\n",
       "      <td>casado</td>\n",
       "      <td>$40K - $60K</td>\n",
       "      <td>blue</td>\n",
       "      <td>54</td>\n",
       "      <td>6</td>\n",
       "      <td>3</td>\n",
       "      <td>2</td>\n",
       "      <td>9.095,59</td>\n",
       "      <td>1.314,42</td>\n",
       "      <td>26</td>\n",
       "    </tr>\n",
       "    <tr>\n",
       "      <th>12</th>\n",
       "      <td>710599683</td>\n",
       "      <td>0</td>\n",
       "      <td>56</td>\n",
       "      <td>M</td>\n",
       "      <td>1</td>\n",
       "      <td>graduacao</td>\n",
       "      <td>solteiro</td>\n",
       "      <td>$80K - $120K</td>\n",
       "      <td>blue</td>\n",
       "      <td>36</td>\n",
       "      <td>3</td>\n",
       "      <td>0</td>\n",
       "      <td>6</td>\n",
       "      <td>11.751,09</td>\n",
       "      <td>1.539,95</td>\n",
       "      <td>17</td>\n",
       "    </tr>\n",
       "    <tr>\n",
       "      <th>13</th>\n",
       "      <td>816082233</td>\n",
       "      <td>0</td>\n",
       "      <td>35</td>\n",
       "      <td>M</td>\n",
       "      <td>3</td>\n",
       "      <td>mestrado</td>\n",
       "      <td>NaN</td>\n",
       "      <td>$60K - $80K</td>\n",
       "      <td>blue</td>\n",
       "      <td>30</td>\n",
       "      <td>5</td>\n",
       "      <td>3</td>\n",
       "      <td>1</td>\n",
       "      <td>8.547,74</td>\n",
       "      <td>1.311,48</td>\n",
       "      <td>33</td>\n",
       "    </tr>\n",
       "    <tr>\n",
       "      <th>14</th>\n",
       "      <td>712396908</td>\n",
       "      <td>0</td>\n",
       "      <td>57</td>\n",
       "      <td>F</td>\n",
       "      <td>2</td>\n",
       "      <td>mestrado</td>\n",
       "      <td>casado</td>\n",
       "      <td>menos que $40K</td>\n",
       "      <td>blue</td>\n",
       "      <td>48</td>\n",
       "      <td>5</td>\n",
       "      <td>2</td>\n",
       "      <td>2</td>\n",
       "      <td>2.436,00</td>\n",
       "      <td>1.570,23</td>\n",
       "      <td>29</td>\n",
       "    </tr>\n",
       "    <tr>\n",
       "      <th>15</th>\n",
       "      <td>714885258</td>\n",
       "      <td>0</td>\n",
       "      <td>44</td>\n",
       "      <td>M</td>\n",
       "      <td>4</td>\n",
       "      <td>NaN</td>\n",
       "      <td>NaN</td>\n",
       "      <td>$80K - $120K</td>\n",
       "      <td>blue</td>\n",
       "      <td>37</td>\n",
       "      <td>5</td>\n",
       "      <td>2</td>\n",
       "      <td>1</td>\n",
       "      <td>4.234,96</td>\n",
       "      <td>1.348,10</td>\n",
       "      <td>27</td>\n",
       "    </tr>\n",
       "    <tr>\n",
       "      <th>16</th>\n",
       "      <td>709967358</td>\n",
       "      <td>0</td>\n",
       "      <td>48</td>\n",
       "      <td>M</td>\n",
       "      <td>4</td>\n",
       "      <td>doutorado</td>\n",
       "      <td>solteiro</td>\n",
       "      <td>$80K - $120K</td>\n",
       "      <td>blue</td>\n",
       "      <td>36</td>\n",
       "      <td>6</td>\n",
       "      <td>3</td>\n",
       "      <td>2</td>\n",
       "      <td>30.367,57</td>\n",
       "      <td>1.671,12</td>\n",
       "      <td>27</td>\n",
       "    </tr>\n",
       "    <tr>\n",
       "      <th>17</th>\n",
       "      <td>753327333</td>\n",
       "      <td>0</td>\n",
       "      <td>41</td>\n",
       "      <td>M</td>\n",
       "      <td>3</td>\n",
       "      <td>NaN</td>\n",
       "      <td>casado</td>\n",
       "      <td>$80K - $120K</td>\n",
       "      <td>blue</td>\n",
       "      <td>34</td>\n",
       "      <td>4</td>\n",
       "      <td>1</td>\n",
       "      <td>4</td>\n",
       "      <td>13.535,91</td>\n",
       "      <td>1.028,75</td>\n",
       "      <td>21</td>\n",
       "    </tr>\n",
       "    <tr>\n",
       "      <th>18</th>\n",
       "      <td>806160108</td>\n",
       "      <td>0</td>\n",
       "      <td>61</td>\n",
       "      <td>M</td>\n",
       "      <td>1</td>\n",
       "      <td>ensino medio</td>\n",
       "      <td>casado</td>\n",
       "      <td>$40K - $60K</td>\n",
       "      <td>blue</td>\n",
       "      <td>56</td>\n",
       "      <td>2</td>\n",
       "      <td>3</td>\n",
       "      <td>2</td>\n",
       "      <td>3.193,51</td>\n",
       "      <td>1.336,54</td>\n",
       "      <td>30</td>\n",
       "    </tr>\n",
       "    <tr>\n",
       "      <th>19</th>\n",
       "      <td>709327383</td>\n",
       "      <td>0</td>\n",
       "      <td>45</td>\n",
       "      <td>F</td>\n",
       "      <td>2</td>\n",
       "      <td>mestrado</td>\n",
       "      <td>casado</td>\n",
       "      <td>NaN</td>\n",
       "      <td>blue</td>\n",
       "      <td>37</td>\n",
       "      <td>6</td>\n",
       "      <td>2</td>\n",
       "      <td>1</td>\n",
       "      <td>14.470,78</td>\n",
       "      <td>1.207,79</td>\n",
       "      <td>21</td>\n",
       "    </tr>\n",
       "  </tbody>\n",
       "</table>\n",
       "</div>"
      ],
      "text/plain": [
       "           id  default  idade sexo  dependentes         escolaridade  \\\n",
       "0   768805383        0     45    M            3         ensino medio   \n",
       "1   818770008        0     49    F            5             mestrado   \n",
       "2   713982108        0     51    M            3             mestrado   \n",
       "3   769911858        0     40    F            4         ensino medio   \n",
       "4   709106358        0     40    M            3  sem educacao formal   \n",
       "5   713061558        0     44    M            2             mestrado   \n",
       "6   810347208        0     51    M            4                  NaN   \n",
       "7   818906208        0     32    M            0         ensino medio   \n",
       "8   710930508        0     37    M            3  sem educacao formal   \n",
       "9   719661558        0     48    M            2             mestrado   \n",
       "10  708790833        0     42    M            5  sem educacao formal   \n",
       "11  710821833        0     65    M            1                  NaN   \n",
       "12  710599683        0     56    M            1            graduacao   \n",
       "13  816082233        0     35    M            3             mestrado   \n",
       "14  712396908        0     57    F            2             mestrado   \n",
       "15  714885258        0     44    M            4                  NaN   \n",
       "16  709967358        0     48    M            4            doutorado   \n",
       "17  753327333        0     41    M            3                  NaN   \n",
       "18  806160108        0     61    M            1         ensino medio   \n",
       "19  709327383        0     45    F            2             mestrado   \n",
       "\n",
       "   estado_civil   salario_anual tipo_cartao  meses_de_relacionamento  \\\n",
       "0        casado     $60K - $80K        blue                       39   \n",
       "1      solteiro  menos que $40K        blue                       44   \n",
       "2        casado    $80K - $120K        blue                       36   \n",
       "3           NaN  menos que $40K        blue                       34   \n",
       "4        casado     $60K - $80K        blue                       21   \n",
       "5        casado     $40K - $60K        blue                       36   \n",
       "6        casado         $120K +        gold                       46   \n",
       "7           NaN     $60K - $80K      silver                       27   \n",
       "8      solteiro     $60K - $80K        blue                       36   \n",
       "9      solteiro    $80K - $120K        blue                       36   \n",
       "10          NaN         $120K +        blue                       31   \n",
       "11       casado     $40K - $60K        blue                       54   \n",
       "12     solteiro    $80K - $120K        blue                       36   \n",
       "13          NaN     $60K - $80K        blue                       30   \n",
       "14       casado  menos que $40K        blue                       48   \n",
       "15          NaN    $80K - $120K        blue                       37   \n",
       "16     solteiro    $80K - $120K        blue                       36   \n",
       "17       casado    $80K - $120K        blue                       34   \n",
       "18       casado     $40K - $60K        blue                       56   \n",
       "19       casado             NaN        blue                       37   \n",
       "\n",
       "    qtd_produtos  iteracoes_12m  meses_inativo_12m limite_credito  \\\n",
       "0              5              3                  1      12.691,51   \n",
       "1              6              2                  1       8.256,96   \n",
       "2              4              0                  1       3.418,56   \n",
       "3              3              1                  4       3.313,03   \n",
       "4              5              0                  1       4.716,22   \n",
       "5              3              2                  1       4.010,69   \n",
       "6              6              3                  1      34.516,72   \n",
       "7              2              2                  2      29.081,49   \n",
       "8              5              0                  2      22.352,50   \n",
       "9              6              3                  3      11.656,41   \n",
       "10             5              2                  3       6.748,40   \n",
       "11             6              3                  2       9.095,59   \n",
       "12             3              0                  6      11.751,09   \n",
       "13             5              3                  1       8.547,74   \n",
       "14             5              2                  2       2.436,00   \n",
       "15             5              2                  1       4.234,96   \n",
       "16             6              3                  2      30.367,57   \n",
       "17             4              1                  4      13.535,91   \n",
       "18             2              3                  2       3.193,51   \n",
       "19             6              2                  1      14.470,78   \n",
       "\n",
       "   valor_transacoes_12m  qtd_transacoes_12m  \n",
       "0              1.144,90                  42  \n",
       "1              1.291,45                  33  \n",
       "2              1.887,72                  20  \n",
       "3              1.171,56                  20  \n",
       "4                816,08                  28  \n",
       "5              1.088,07                  24  \n",
       "6              1.330,87                  31  \n",
       "7              1.538,32                  36  \n",
       "8              1.350,14                  24  \n",
       "9              1.441,73                  32  \n",
       "10             1.201,27                  42  \n",
       "11             1.314,42                  26  \n",
       "12             1.539,95                  17  \n",
       "13             1.311,48                  33  \n",
       "14             1.570,23                  29  \n",
       "15             1.348,10                  27  \n",
       "16             1.671,12                  27  \n",
       "17             1.028,75                  21  \n",
       "18             1.336,54                  30  \n",
       "19             1.207,79                  21  "
      ]
     },
     "execution_count": 13,
     "metadata": {},
     "output_type": "execute_result"
    }
   ],
   "source": [
    "df.head(20)"
   ]
  },
  {
   "cell_type": "markdown",
   "id": "0410a874",
   "metadata": {
    "papermill": {
     "duration": 0.016355,
     "end_time": "2024-05-22T19:59:04.361797",
     "exception": false,
     "start_time": "2024-05-22T19:59:04.345442",
     "status": "completed"
    },
    "tags": []
   },
   "source": [
    "Vamos verificar quais colunas possuem dados faltantes usando o metodo **isna()**, nativo do **Pandas**. Este metodo vai nos retornar um *bool*, onde True será correspondente a colunas com valores faltantes, e False para colunas que não possuem valores faltantes."
   ]
  },
  {
   "cell_type": "code",
   "execution_count": 14,
   "id": "9f59690e",
   "metadata": {
    "execution": {
     "iopub.execute_input": "2024-05-22T19:59:04.395583Z",
     "iopub.status.busy": "2024-05-22T19:59:04.395179Z",
     "iopub.status.idle": "2024-05-22T19:59:04.407072Z",
     "shell.execute_reply": "2024-05-22T19:59:04.406040Z"
    },
    "papermill": {
     "duration": 0.031338,
     "end_time": "2024-05-22T19:59:04.409242",
     "exception": false,
     "start_time": "2024-05-22T19:59:04.377904",
     "status": "completed"
    },
    "tags": []
   },
   "outputs": [
    {
     "data": {
      "text/plain": [
       "id                         False\n",
       "default                    False\n",
       "idade                      False\n",
       "sexo                       False\n",
       "dependentes                False\n",
       "escolaridade                True\n",
       "estado_civil                True\n",
       "salario_anual               True\n",
       "tipo_cartao                False\n",
       "meses_de_relacionamento    False\n",
       "qtd_produtos               False\n",
       "iteracoes_12m              False\n",
       "meses_inativo_12m          False\n",
       "limite_credito             False\n",
       "valor_transacoes_12m       False\n",
       "qtd_transacoes_12m         False\n",
       "dtype: bool"
      ]
     },
     "execution_count": 14,
     "metadata": {},
     "output_type": "execute_result"
    }
   ],
   "source": [
    "df.isna().any()"
   ]
  },
  {
   "cell_type": "markdown",
   "id": "e672e3d5",
   "metadata": {
    "papermill": {
     "duration": 0.016014,
     "end_time": "2024-05-22T19:59:04.441679",
     "exception": false,
     "start_time": "2024-05-22T19:59:04.425665",
     "status": "completed"
    },
    "tags": []
   },
   "source": [
    "Diante desta situação se torna necessária a contagem de linhas que estão com dados faltantes. Compararemos se a procentagem de dados faltantes nas colunas de adimplência e inadimplência são próximas as respectivas colunas do dataframe original. "
   ]
  },
  {
   "cell_type": "code",
   "execution_count": 15,
   "id": "325bd60a",
   "metadata": {
    "execution": {
     "iopub.execute_input": "2024-05-22T19:59:04.476234Z",
     "iopub.status.busy": "2024-05-22T19:59:04.475840Z",
     "iopub.status.idle": "2024-05-22T19:59:04.482681Z",
     "shell.execute_reply": "2024-05-22T19:59:04.481615Z"
    },
    "papermill": {
     "duration": 0.02723,
     "end_time": "2024-05-22T19:59:04.485041",
     "exception": false,
     "start_time": "2024-05-22T19:59:04.457811",
     "status": "completed"
    },
    "tags": []
   },
   "outputs": [],
   "source": [
    "def stats_dados_faltantes (df:pd.DataFrame) -> None:\n",
    "    stats_dados_faltantes = []\n",
    "    for col in df.columns:\n",
    "        if df[col].isna().any():\n",
    "            qtd, _=df[df[col].isna()].shape\n",
    "            total, _=df.shape\n",
    "            dict_dados_faltantes = {col: {'quantidade': qtd, 'percentagem': round(100 * qtd/total,2)}}\n",
    "            stats_dados_faltantes.append(dict_dados_faltantes)\n",
    "            \n",
    "    for stat in stats_dados_faltantes:\n",
    "        print(stat)\n",
    "        "
   ]
  },
  {
   "cell_type": "code",
   "execution_count": 16,
   "id": "ecca1081",
   "metadata": {
    "execution": {
     "iopub.execute_input": "2024-05-22T19:59:04.519479Z",
     "iopub.status.busy": "2024-05-22T19:59:04.518852Z",
     "iopub.status.idle": "2024-05-22T19:59:04.534285Z",
     "shell.execute_reply": "2024-05-22T19:59:04.533067Z"
    },
    "papermill": {
     "duration": 0.035185,
     "end_time": "2024-05-22T19:59:04.536676",
     "exception": false,
     "start_time": "2024-05-22T19:59:04.501491",
     "status": "completed"
    },
    "tags": []
   },
   "outputs": [
    {
     "name": "stdout",
     "output_type": "stream",
     "text": [
      "{'escolaridade': {'quantidade': 1519, 'percentagem': 15.0}}\n",
      "{'estado_civil': {'quantidade': 749, 'percentagem': 7.4}}\n",
      "{'salario_anual': {'quantidade': 1112, 'percentagem': 10.98}}\n"
     ]
    }
   ],
   "source": [
    "#total\n",
    "stats_dados_faltantes(df=df)"
   ]
  },
  {
   "cell_type": "code",
   "execution_count": 17,
   "id": "e8d11496",
   "metadata": {
    "execution": {
     "iopub.execute_input": "2024-05-22T19:59:04.571791Z",
     "iopub.status.busy": "2024-05-22T19:59:04.571442Z",
     "iopub.status.idle": "2024-05-22T19:59:04.588121Z",
     "shell.execute_reply": "2024-05-22T19:59:04.586681Z"
    },
    "papermill": {
     "duration": 0.036966,
     "end_time": "2024-05-22T19:59:04.590662",
     "exception": false,
     "start_time": "2024-05-22T19:59:04.553696",
     "status": "completed"
    },
    "tags": []
   },
   "outputs": [
    {
     "name": "stdout",
     "output_type": "stream",
     "text": [
      "{'escolaridade': {'quantidade': 1263, 'percentagem': 14.86}}\n",
      "{'estado_civil': {'quantidade': 620, 'percentagem': 7.29}}\n",
      "{'salario_anual': {'quantidade': 925, 'percentagem': 10.88}}\n"
     ]
    }
   ],
   "source": [
    "#adimplentes\n",
    "stats_dados_faltantes(df=df[df['default'] == 0])"
   ]
  },
  {
   "cell_type": "code",
   "execution_count": 18,
   "id": "16a2422f",
   "metadata": {
    "execution": {
     "iopub.execute_input": "2024-05-22T19:59:04.625684Z",
     "iopub.status.busy": "2024-05-22T19:59:04.625304Z",
     "iopub.status.idle": "2024-05-22T19:59:04.638644Z",
     "shell.execute_reply": "2024-05-22T19:59:04.637501Z"
    },
    "papermill": {
     "duration": 0.033604,
     "end_time": "2024-05-22T19:59:04.641037",
     "exception": false,
     "start_time": "2024-05-22T19:59:04.607433",
     "status": "completed"
    },
    "tags": []
   },
   "outputs": [
    {
     "name": "stdout",
     "output_type": "stream",
     "text": [
      "{'escolaridade': {'quantidade': 256, 'percentagem': 15.73}}\n",
      "{'estado_civil': {'quantidade': 129, 'percentagem': 7.93}}\n",
      "{'salario_anual': {'quantidade': 187, 'percentagem': 11.49}}\n"
     ]
    }
   ],
   "source": [
    "#inadimplentes\n",
    "stats_dados_faltantes(df=df[df['default'] == 1])"
   ]
  },
  {
   "cell_type": "markdown",
   "id": "7e9f6047",
   "metadata": {
    "papermill": {
     "duration": 0.016366,
     "end_time": "2024-05-22T19:59:04.674038",
     "exception": false,
     "start_time": "2024-05-22T19:59:04.657672",
     "status": "completed"
    },
    "tags": []
   },
   "source": [
    "Notamos que a proporção dos dados faltantes nos três dataframes são praticamente a mesma. Desta forma podemos eliminar as linhas que contém dados faltantes sem prejudicar a analise dos dados."
   ]
  },
  {
   "cell_type": "markdown",
   "id": "65fb2028",
   "metadata": {
    "papermill": {
     "duration": 0.016136,
     "end_time": "2024-05-22T19:59:04.706700",
     "exception": false,
     "start_time": "2024-05-22T19:59:04.690564",
     "status": "completed"
    },
    "tags": []
   },
   "source": [
    "**Transformação e limpeza dos dados**\n",
    "\n",
    "Com os problemas dos dados já evidenciados agora vamos realizar as transformações e limpezas necessarias para que assim sejam melhor analisados. Teremos dois problemas a tratar:\n",
    "* Duas colunas (**limite_credito, valor_transacoes_12m**) estão com a tipagem errada.\n",
    "* Temos dados faltantes que podem ser retirados do dataframe.\n",
    "\n"
   ]
  },
  {
   "cell_type": "code",
   "execution_count": 19,
   "id": "89cf920b",
   "metadata": {
    "execution": {
     "iopub.execute_input": "2024-05-22T19:59:04.741234Z",
     "iopub.status.busy": "2024-05-22T19:59:04.740851Z",
     "iopub.status.idle": "2024-05-22T19:59:04.749730Z",
     "shell.execute_reply": "2024-05-22T19:59:04.748703Z"
    },
    "papermill": {
     "duration": 0.028911,
     "end_time": "2024-05-22T19:59:04.751896",
     "exception": false,
     "start_time": "2024-05-22T19:59:04.722985",
     "status": "completed"
    },
    "tags": []
   },
   "outputs": [
    {
     "data": {
      "text/plain": [
       "limite_credito          object\n",
       "valor_transacoes_12m    object\n",
       "dtype: object"
      ]
     },
     "execution_count": 19,
     "metadata": {},
     "output_type": "execute_result"
    }
   ],
   "source": [
    "df[['limite_credito', 'valor_transacoes_12m']].dtypes"
   ]
  },
  {
   "cell_type": "code",
   "execution_count": 20,
   "id": "9658aad6",
   "metadata": {
    "execution": {
     "iopub.execute_input": "2024-05-22T19:59:04.787797Z",
     "iopub.status.busy": "2024-05-22T19:59:04.787432Z",
     "iopub.status.idle": "2024-05-22T19:59:04.798451Z",
     "shell.execute_reply": "2024-05-22T19:59:04.797348Z"
    },
    "papermill": {
     "duration": 0.031501,
     "end_time": "2024-05-22T19:59:04.800572",
     "exception": false,
     "start_time": "2024-05-22T19:59:04.769071",
     "status": "completed"
    },
    "tags": []
   },
   "outputs": [
    {
     "data": {
      "text/html": [
       "<div>\n",
       "<style scoped>\n",
       "    .dataframe tbody tr th:only-of-type {\n",
       "        vertical-align: middle;\n",
       "    }\n",
       "\n",
       "    .dataframe tbody tr th {\n",
       "        vertical-align: top;\n",
       "    }\n",
       "\n",
       "    .dataframe thead th {\n",
       "        text-align: right;\n",
       "    }\n",
       "</style>\n",
       "<table border=\"1\" class=\"dataframe\">\n",
       "  <thead>\n",
       "    <tr style=\"text-align: right;\">\n",
       "      <th></th>\n",
       "      <th>limite_credito</th>\n",
       "      <th>valor_transacoes_12m</th>\n",
       "    </tr>\n",
       "  </thead>\n",
       "  <tbody>\n",
       "    <tr>\n",
       "      <th>0</th>\n",
       "      <td>12.691,51</td>\n",
       "      <td>1.144,90</td>\n",
       "    </tr>\n",
       "    <tr>\n",
       "      <th>1</th>\n",
       "      <td>8.256,96</td>\n",
       "      <td>1.291,45</td>\n",
       "    </tr>\n",
       "    <tr>\n",
       "      <th>2</th>\n",
       "      <td>3.418,56</td>\n",
       "      <td>1.887,72</td>\n",
       "    </tr>\n",
       "    <tr>\n",
       "      <th>3</th>\n",
       "      <td>3.313,03</td>\n",
       "      <td>1.171,56</td>\n",
       "    </tr>\n",
       "    <tr>\n",
       "      <th>4</th>\n",
       "      <td>4.716,22</td>\n",
       "      <td>816,08</td>\n",
       "    </tr>\n",
       "    <tr>\n",
       "      <th>5</th>\n",
       "      <td>4.010,69</td>\n",
       "      <td>1.088,07</td>\n",
       "    </tr>\n",
       "    <tr>\n",
       "      <th>6</th>\n",
       "      <td>34.516,72</td>\n",
       "      <td>1.330,87</td>\n",
       "    </tr>\n",
       "  </tbody>\n",
       "</table>\n",
       "</div>"
      ],
      "text/plain": [
       "  limite_credito valor_transacoes_12m\n",
       "0      12.691,51             1.144,90\n",
       "1       8.256,96             1.291,45\n",
       "2       3.418,56             1.887,72\n",
       "3       3.313,03             1.171,56\n",
       "4       4.716,22               816,08\n",
       "5       4.010,69             1.088,07\n",
       "6      34.516,72             1.330,87"
      ]
     },
     "execution_count": 20,
     "metadata": {},
     "output_type": "execute_result"
    }
   ],
   "source": [
    "df[['limite_credito', 'valor_transacoes_12m']].head(n=7)"
   ]
  },
  {
   "cell_type": "markdown",
   "id": "5a48e0ba",
   "metadata": {
    "papermill": {
     "duration": 0.016591,
     "end_time": "2024-05-22T19:59:04.834027",
     "exception": false,
     "start_time": "2024-05-22T19:59:04.817436",
     "status": "completed"
    },
    "tags": []
   },
   "source": [
    "Foi criado uma função lambda para tratamento dos dados, esta função retira o primeiro ponto; em seguida troca a virgula por ponto, desta forma a coluna será lida como *float*. Antes de sua aplicação real, esta função será testada; o metodo ultilizado será o map."
   ]
  },
  {
   "cell_type": "code",
   "execution_count": 21,
   "id": "65a2ce56",
   "metadata": {
    "execution": {
     "iopub.execute_input": "2024-05-22T19:59:04.870105Z",
     "iopub.status.busy": "2024-05-22T19:59:04.869732Z",
     "iopub.status.idle": "2024-05-22T19:59:04.876100Z",
     "shell.execute_reply": "2024-05-22T19:59:04.875054Z"
    },
    "papermill": {
     "duration": 0.027926,
     "end_time": "2024-05-22T19:59:04.878707",
     "exception": false,
     "start_time": "2024-05-22T19:59:04.850781",
     "status": "completed"
    },
    "tags": []
   },
   "outputs": [
    {
     "name": "stdout",
     "output_type": "stream",
     "text": [
      "['12.691,51', '8.256,96', '3.418,56', '3.313,03', '4.716,22']\n",
      "[12691.51, 8256.96, 3418.56, 3313.03, 4716.22]\n"
     ]
    }
   ],
   "source": [
    "fn = lambda valor: float(valor.replace(\".\", \"\").replace(\",\", \".\"))\n",
    "\n",
    "valores_originais = ['12.691,51', '8.256,96', '3.418,56', '3.313,03', '4.716,22']\n",
    "valores_limpos = list(map(fn, valores_originais))\n",
    "\n",
    "print(valores_originais)\n",
    "print(valores_limpos)"
   ]
  },
  {
   "cell_type": "markdown",
   "id": "20505ac3",
   "metadata": {
    "papermill": {
     "duration": 0.016647,
     "end_time": "2024-05-22T19:59:04.913111",
     "exception": false,
     "start_time": "2024-05-22T19:59:04.896464",
     "status": "completed"
    },
    "tags": []
   },
   "source": [
    "Feito o teste com sucesso, agora basta aplicar nas colunas de interesse ultilizando o método **apply()**"
   ]
  },
  {
   "cell_type": "code",
   "execution_count": 22,
   "id": "02f3ce58",
   "metadata": {
    "execution": {
     "iopub.execute_input": "2024-05-22T19:59:04.948867Z",
     "iopub.status.busy": "2024-05-22T19:59:04.948109Z",
     "iopub.status.idle": "2024-05-22T19:59:04.966752Z",
     "shell.execute_reply": "2024-05-22T19:59:04.965702Z"
    },
    "papermill": {
     "duration": 0.038893,
     "end_time": "2024-05-22T19:59:04.969081",
     "exception": false,
     "start_time": "2024-05-22T19:59:04.930188",
     "status": "completed"
    },
    "tags": []
   },
   "outputs": [],
   "source": [
    "df['valor_transacoes_12m'] = df['valor_transacoes_12m'].apply(fn)\n",
    "df['limite_credito'] = df['limite_credito'].apply(fn)"
   ]
  },
  {
   "cell_type": "code",
   "execution_count": 23,
   "id": "83e6054a",
   "metadata": {
    "execution": {
     "iopub.execute_input": "2024-05-22T19:59:05.005477Z",
     "iopub.status.busy": "2024-05-22T19:59:05.005087Z",
     "iopub.status.idle": "2024-05-22T19:59:05.016716Z",
     "shell.execute_reply": "2024-05-22T19:59:05.015717Z"
    },
    "papermill": {
     "duration": 0.032725,
     "end_time": "2024-05-22T19:59:05.018936",
     "exception": false,
     "start_time": "2024-05-22T19:59:04.986211",
     "status": "completed"
    },
    "tags": []
   },
   "outputs": [
    {
     "data": {
      "text/html": [
       "<div>\n",
       "<style scoped>\n",
       "    .dataframe tbody tr th:only-of-type {\n",
       "        vertical-align: middle;\n",
       "    }\n",
       "\n",
       "    .dataframe tbody tr th {\n",
       "        vertical-align: top;\n",
       "    }\n",
       "\n",
       "    .dataframe thead th {\n",
       "        text-align: right;\n",
       "    }\n",
       "</style>\n",
       "<table border=\"1\" class=\"dataframe\">\n",
       "  <thead>\n",
       "    <tr style=\"text-align: right;\">\n",
       "      <th></th>\n",
       "      <th>limite_credito</th>\n",
       "      <th>valor_transacoes_12m</th>\n",
       "    </tr>\n",
       "  </thead>\n",
       "  <tbody>\n",
       "    <tr>\n",
       "      <th>0</th>\n",
       "      <td>12691.51</td>\n",
       "      <td>1144.90</td>\n",
       "    </tr>\n",
       "    <tr>\n",
       "      <th>1</th>\n",
       "      <td>8256.96</td>\n",
       "      <td>1291.45</td>\n",
       "    </tr>\n",
       "    <tr>\n",
       "      <th>2</th>\n",
       "      <td>3418.56</td>\n",
       "      <td>1887.72</td>\n",
       "    </tr>\n",
       "    <tr>\n",
       "      <th>3</th>\n",
       "      <td>3313.03</td>\n",
       "      <td>1171.56</td>\n",
       "    </tr>\n",
       "    <tr>\n",
       "      <th>4</th>\n",
       "      <td>4716.22</td>\n",
       "      <td>816.08</td>\n",
       "    </tr>\n",
       "  </tbody>\n",
       "</table>\n",
       "</div>"
      ],
      "text/plain": [
       "   limite_credito  valor_transacoes_12m\n",
       "0        12691.51               1144.90\n",
       "1         8256.96               1291.45\n",
       "2         3418.56               1887.72\n",
       "3         3313.03               1171.56\n",
       "4         4716.22                816.08"
      ]
     },
     "execution_count": 23,
     "metadata": {},
     "output_type": "execute_result"
    }
   ],
   "source": [
    "df[['limite_credito', 'valor_transacoes_12m']].head(n=5)"
   ]
  },
  {
   "cell_type": "markdown",
   "id": "168c7fe1",
   "metadata": {
    "papermill": {
     "duration": 0.017425,
     "end_time": "2024-05-22T19:59:05.053552",
     "exception": false,
     "start_time": "2024-05-22T19:59:05.036127",
     "status": "completed"
    },
    "tags": []
   },
   "source": [
    "Conferindo se a tipagem esta realmente correta:"
   ]
  },
  {
   "cell_type": "code",
   "execution_count": 24,
   "id": "b4249b3c",
   "metadata": {
    "execution": {
     "iopub.execute_input": "2024-05-22T19:59:05.090139Z",
     "iopub.status.busy": "2024-05-22T19:59:05.089417Z",
     "iopub.status.idle": "2024-05-22T19:59:05.098088Z",
     "shell.execute_reply": "2024-05-22T19:59:05.097077Z"
    },
    "papermill": {
     "duration": 0.029431,
     "end_time": "2024-05-22T19:59:05.100321",
     "exception": false,
     "start_time": "2024-05-22T19:59:05.070890",
     "status": "completed"
    },
    "tags": []
   },
   "outputs": [
    {
     "data": {
      "text/plain": [
       "limite_credito          float64\n",
       "valor_transacoes_12m    float64\n",
       "dtype: object"
      ]
     },
     "execution_count": 24,
     "metadata": {},
     "output_type": "execute_result"
    }
   ],
   "source": [
    "df[['limite_credito', 'valor_transacoes_12m']].dtypes"
   ]
  },
  {
   "cell_type": "markdown",
   "id": "6ea1933c",
   "metadata": {
    "papermill": {
     "duration": 0.017491,
     "end_time": "2024-05-22T19:59:05.135389",
     "exception": false,
     "start_time": "2024-05-22T19:59:05.117898",
     "status": "completed"
    },
    "tags": []
   },
   "source": [
    "**Remoção de dados faltantes**\n",
    "\n",
    "Com o auxilio do pandas a remoção de dados faltantes se torna algo simples."
   ]
  },
  {
   "cell_type": "code",
   "execution_count": 25,
   "id": "59e203c2",
   "metadata": {
    "execution": {
     "iopub.execute_input": "2024-05-22T19:59:05.172509Z",
     "iopub.status.busy": "2024-05-22T19:59:05.171526Z",
     "iopub.status.idle": "2024-05-22T19:59:05.181286Z",
     "shell.execute_reply": "2024-05-22T19:59:05.180301Z"
    },
    "papermill": {
     "duration": 0.03102,
     "end_time": "2024-05-22T19:59:05.183558",
     "exception": false,
     "start_time": "2024-05-22T19:59:05.152538",
     "status": "completed"
    },
    "tags": []
   },
   "outputs": [],
   "source": [
    "df.dropna(inplace = True)"
   ]
  },
  {
   "cell_type": "markdown",
   "id": "2f058bd0",
   "metadata": {
    "papermill": {
     "duration": 0.016738,
     "end_time": "2024-05-22T19:59:05.217373",
     "exception": false,
     "start_time": "2024-05-22T19:59:05.200635",
     "status": "completed"
    },
    "tags": []
   },
   "source": [
    "Vamos analisar novamente a estrutura do dataframe."
   ]
  },
  {
   "cell_type": "code",
   "execution_count": 26,
   "id": "dd58018d",
   "metadata": {
    "execution": {
     "iopub.execute_input": "2024-05-22T19:59:05.253852Z",
     "iopub.status.busy": "2024-05-22T19:59:05.253381Z",
     "iopub.status.idle": "2024-05-22T19:59:05.260432Z",
     "shell.execute_reply": "2024-05-22T19:59:05.259302Z"
    },
    "papermill": {
     "duration": 0.028511,
     "end_time": "2024-05-22T19:59:05.262948",
     "exception": false,
     "start_time": "2024-05-22T19:59:05.234437",
     "status": "completed"
    },
    "tags": []
   },
   "outputs": [
    {
     "data": {
      "text/plain": [
       "(7081, 16)"
      ]
     },
     "execution_count": 26,
     "metadata": {},
     "output_type": "execute_result"
    }
   ],
   "source": [
    "df.shape"
   ]
  },
  {
   "cell_type": "code",
   "execution_count": 27,
   "id": "6b49f3b7",
   "metadata": {
    "execution": {
     "iopub.execute_input": "2024-05-22T19:59:05.299469Z",
     "iopub.status.busy": "2024-05-22T19:59:05.299088Z",
     "iopub.status.idle": "2024-05-22T19:59:05.307457Z",
     "shell.execute_reply": "2024-05-22T19:59:05.306397Z"
    },
    "papermill": {
     "duration": 0.029214,
     "end_time": "2024-05-22T19:59:05.309664",
     "exception": false,
     "start_time": "2024-05-22T19:59:05.280450",
     "status": "completed"
    },
    "tags": []
   },
   "outputs": [
    {
     "data": {
      "text/plain": [
       "(5968, 16)"
      ]
     },
     "execution_count": 27,
     "metadata": {},
     "output_type": "execute_result"
    }
   ],
   "source": [
    "df[df['default']==0].shape"
   ]
  },
  {
   "cell_type": "code",
   "execution_count": 28,
   "id": "c557e669",
   "metadata": {
    "execution": {
     "iopub.execute_input": "2024-05-22T19:59:05.346327Z",
     "iopub.status.busy": "2024-05-22T19:59:05.345385Z",
     "iopub.status.idle": "2024-05-22T19:59:05.353978Z",
     "shell.execute_reply": "2024-05-22T19:59:05.353033Z"
    },
    "papermill": {
     "duration": 0.029193,
     "end_time": "2024-05-22T19:59:05.356087",
     "exception": false,
     "start_time": "2024-05-22T19:59:05.326894",
     "status": "completed"
    },
    "tags": []
   },
   "outputs": [
    {
     "data": {
      "text/plain": [
       "(1113, 16)"
      ]
     },
     "execution_count": 28,
     "metadata": {},
     "output_type": "execute_result"
    }
   ],
   "source": [
    "df[df['default']==1].shape"
   ]
  },
  {
   "cell_type": "code",
   "execution_count": 29,
   "id": "ea759fa1",
   "metadata": {
    "execution": {
     "iopub.execute_input": "2024-05-22T19:59:05.392513Z",
     "iopub.status.busy": "2024-05-22T19:59:05.392127Z",
     "iopub.status.idle": "2024-05-22T19:59:05.399895Z",
     "shell.execute_reply": "2024-05-22T19:59:05.399033Z"
    },
    "papermill": {
     "duration": 0.02827,
     "end_time": "2024-05-22T19:59:05.401939",
     "exception": false,
     "start_time": "2024-05-22T19:59:05.373669",
     "status": "completed"
    },
    "tags": []
   },
   "outputs": [],
   "source": [
    "qtd_total_novo, _ = df.shape\n",
    "qtd_adimplentes_novo, _ = df[df['default'] == 0].shape\n",
    "qtd_inadimplentes_novo, _ = df[df['default'] == 1].shape"
   ]
  },
  {
   "cell_type": "code",
   "execution_count": 30,
   "id": "534ae0d0",
   "metadata": {
    "execution": {
     "iopub.execute_input": "2024-05-22T19:59:05.439149Z",
     "iopub.status.busy": "2024-05-22T19:59:05.438782Z",
     "iopub.status.idle": "2024-05-22T19:59:05.445118Z",
     "shell.execute_reply": "2024-05-22T19:59:05.444049Z"
    },
    "papermill": {
     "duration": 0.027789,
     "end_time": "2024-05-22T19:59:05.447308",
     "exception": false,
     "start_time": "2024-05-22T19:59:05.419519",
     "status": "completed"
    },
    "tags": []
   },
   "outputs": [
    {
     "name": "stdout",
     "output_type": "stream",
     "text": [
      "A proporcão adimplentes é de 83.93%\n",
      "A proporcão clientes inadimplentes é de 16.07%\n",
      "\n",
      "A nova proporcão de clientes adimplentes é de 84.28%\n",
      "A nova proporcão de clientes inadimplentes é de 15.72%\n"
     ]
    }
   ],
   "source": [
    "print(f\"A proporcão adimplentes é de {round(100 * qtd_adimplentes / qtd_total, 2)}%\")\n",
    "print(f\"A proporcão clientes inadimplentes é de {round(100 * qtd_inadimplentes / qtd_total, 2)}%\")\n",
    "print('')\n",
    "print(f\"A nova proporcão de clientes adimplentes é de {round(100 * qtd_adimplentes_novo / qtd_total_novo, 2)}%\")\n",
    "print(f\"A nova proporcão de clientes inadimplentes é de {round(100 * qtd_inadimplentes_novo / qtd_total_novo, 2)}%\")"
   ]
  },
  {
   "cell_type": "markdown",
   "id": "343995b2",
   "metadata": {
    "papermill": {
     "duration": 0.016988,
     "end_time": "2024-05-22T19:59:05.481666",
     "exception": false,
     "start_time": "2024-05-22T19:59:05.464678",
     "status": "completed"
    },
    "tags": []
   },
   "source": [
    "**Visualização dos dados (analise explanatória):**\n",
    "\n",
    "Nesta seção com os dados já prontos iremos explanar algumas visualizações e correlacionar variaveis na busca do entendimento de padrões de clientes adimplentes e inadimplentes. As bibliotecas de visualização de dados já foram importadas anteriormente, são elas:\n",
    "\n",
    "*seaborn as sns*\n",
    "\n",
    "*matplotlib.pyplot as plt*\n"
   ]
  },
  {
   "cell_type": "code",
   "execution_count": 31,
   "id": "ba29d017",
   "metadata": {
    "execution": {
     "iopub.execute_input": "2024-05-22T19:59:05.518637Z",
     "iopub.status.busy": "2024-05-22T19:59:05.518233Z",
     "iopub.status.idle": "2024-05-22T19:59:05.526196Z",
     "shell.execute_reply": "2024-05-22T19:59:05.525321Z"
    },
    "papermill": {
     "duration": 0.02896,
     "end_time": "2024-05-22T19:59:05.528493",
     "exception": false,
     "start_time": "2024-05-22T19:59:05.499533",
     "status": "completed"
    },
    "tags": []
   },
   "outputs": [],
   "source": [
    "sns.set_style(\"whitegrid\")\n",
    "df_adimplente = df[df['default'] == 0]\n",
    "df_inadimplente = df[df['default'] == 1]"
   ]
  },
  {
   "cell_type": "markdown",
   "id": "36ac2105",
   "metadata": {
    "papermill": {
     "duration": 0.018391,
     "end_time": "2024-05-22T19:59:05.564629",
     "exception": false,
     "start_time": "2024-05-22T19:59:05.546238",
     "status": "completed"
    },
    "tags": []
   },
   "source": [
    "**Vamos começar pelos dados categóricos:**"
   ]
  },
  {
   "cell_type": "code",
   "execution_count": 32,
   "id": "c0c4a338",
   "metadata": {
    "execution": {
     "iopub.execute_input": "2024-05-22T19:59:05.602097Z",
     "iopub.status.busy": "2024-05-22T19:59:05.601683Z",
     "iopub.status.idle": "2024-05-22T19:59:05.614388Z",
     "shell.execute_reply": "2024-05-22T19:59:05.613348Z"
    },
    "papermill": {
     "duration": 0.03387,
     "end_time": "2024-05-22T19:59:05.616468",
     "exception": false,
     "start_time": "2024-05-22T19:59:05.582598",
     "status": "completed"
    },
    "tags": []
   },
   "outputs": [
    {
     "data": {
      "text/html": [
       "<div>\n",
       "<style scoped>\n",
       "    .dataframe tbody tr th:only-of-type {\n",
       "        vertical-align: middle;\n",
       "    }\n",
       "\n",
       "    .dataframe tbody tr th {\n",
       "        vertical-align: top;\n",
       "    }\n",
       "\n",
       "    .dataframe thead th {\n",
       "        text-align: right;\n",
       "    }\n",
       "</style>\n",
       "<table border=\"1\" class=\"dataframe\">\n",
       "  <thead>\n",
       "    <tr style=\"text-align: right;\">\n",
       "      <th></th>\n",
       "      <th>sexo</th>\n",
       "      <th>escolaridade</th>\n",
       "      <th>estado_civil</th>\n",
       "      <th>salario_anual</th>\n",
       "      <th>tipo_cartao</th>\n",
       "    </tr>\n",
       "  </thead>\n",
       "  <tbody>\n",
       "    <tr>\n",
       "      <th>0</th>\n",
       "      <td>M</td>\n",
       "      <td>ensino medio</td>\n",
       "      <td>casado</td>\n",
       "      <td>$60K - $80K</td>\n",
       "      <td>blue</td>\n",
       "    </tr>\n",
       "    <tr>\n",
       "      <th>1</th>\n",
       "      <td>F</td>\n",
       "      <td>mestrado</td>\n",
       "      <td>solteiro</td>\n",
       "      <td>menos que $40K</td>\n",
       "      <td>blue</td>\n",
       "    </tr>\n",
       "    <tr>\n",
       "      <th>2</th>\n",
       "      <td>M</td>\n",
       "      <td>mestrado</td>\n",
       "      <td>casado</td>\n",
       "      <td>$80K - $120K</td>\n",
       "      <td>blue</td>\n",
       "    </tr>\n",
       "    <tr>\n",
       "      <th>4</th>\n",
       "      <td>M</td>\n",
       "      <td>sem educacao formal</td>\n",
       "      <td>casado</td>\n",
       "      <td>$60K - $80K</td>\n",
       "      <td>blue</td>\n",
       "    </tr>\n",
       "    <tr>\n",
       "      <th>5</th>\n",
       "      <td>M</td>\n",
       "      <td>mestrado</td>\n",
       "      <td>casado</td>\n",
       "      <td>$40K - $60K</td>\n",
       "      <td>blue</td>\n",
       "    </tr>\n",
       "  </tbody>\n",
       "</table>\n",
       "</div>"
      ],
      "text/plain": [
       "  sexo         escolaridade estado_civil   salario_anual tipo_cartao\n",
       "0    M         ensino medio       casado     $60K - $80K        blue\n",
       "1    F             mestrado     solteiro  menos que $40K        blue\n",
       "2    M             mestrado       casado    $80K - $120K        blue\n",
       "4    M  sem educacao formal       casado     $60K - $80K        blue\n",
       "5    M             mestrado       casado     $40K - $60K        blue"
      ]
     },
     "execution_count": 32,
     "metadata": {},
     "output_type": "execute_result"
    }
   ],
   "source": [
    "df.select_dtypes('object').head(n=5)"
   ]
  },
  {
   "cell_type": "markdown",
   "id": "123a48eb",
   "metadata": {
    "papermill": {
     "duration": 0.018136,
     "end_time": "2024-05-22T19:59:05.652474",
     "exception": false,
     "start_time": "2024-05-22T19:59:05.634338",
     "status": "completed"
    },
    "tags": []
   },
   "source": [
    "* **Escolaridade**"
   ]
  },
  {
   "cell_type": "code",
   "execution_count": 33,
   "id": "ff697876",
   "metadata": {
    "execution": {
     "iopub.execute_input": "2024-05-22T19:59:05.691750Z",
     "iopub.status.busy": "2024-05-22T19:59:05.691392Z",
     "iopub.status.idle": "2024-05-22T19:59:06.598444Z",
     "shell.execute_reply": "2024-05-22T19:59:06.597339Z"
    },
    "papermill": {
     "duration": 0.928861,
     "end_time": "2024-05-22T19:59:06.601089",
     "exception": false,
     "start_time": "2024-05-22T19:59:05.672228",
     "status": "completed"
    },
    "tags": []
   },
   "outputs": [
    {
     "data": {
      "image/png": "[encoded data removed]",
      "text/plain": [
       "<Figure size 2000x500 with 3 Axes>"
      ]
     },
     "metadata": {},
     "output_type": "display_data"
    }
   ],
   "source": [
    "coluna = 'escolaridade'\n",
    "titulos = ['Escolaridade dos Clientes', 'Escolaridade dos Clientes Adimplentes', 'Escolaridade dos Clientes Inadimplentes']\n",
    "\n",
    "eixo = 0\n",
    "max_y = 0\n",
    "\n",
    "# encontrando o valor máximo de frequência para ajustar o gráfico\n",
    "max_freq = df[coluna].value_counts().max() * 1.1\n",
    "figura, eixos = plt.subplots(1, 3, figsize=(20, 5), sharex=True)\n",
    "\n",
    "# loop para criar os gráficos\n",
    "for dataframe in [df, df_adimplente, df_inadimplente]:\n",
    "    df_to_plot = dataframe[coluna].value_counts().reset_index()\n",
    "    df_to_plot.columns = [coluna, 'frequencia_absoluta']\n",
    "    df_to_plot.sort_values(by=[coluna], inplace=True)\n",
    "\n",
    "    # plotando o gráfico de barras\n",
    "    f = sns.barplot(x=df_to_plot[coluna], y=df_to_plot['frequencia_absoluta'], ax=eixos[eixo])\n",
    "    f.set(title=titulos[eixo], xlabel=coluna.capitalize(), ylabel='Frequência Absoluta')\n",
    "    f.set_xticklabels(labels=f.get_xticklabels(), rotation=90)\n",
    " \n",
    "    # ajustando o limite do eixo y\n",
    "    _, max_y_f = f.get_ylim()\n",
    "    max_y = max_y_f if max_y_f > max_y else max_y\n",
    "    f.set(ylim=(0, max_y))\n",
    "    eixo += 1\n",
    "    \n",
    "    figura.show()"
   ]
  },
  {
   "cell_type": "markdown",
   "id": "7160955a",
   "metadata": {
    "papermill": {
     "duration": 0.018026,
     "end_time": "2024-05-22T19:59:06.637934",
     "exception": false,
     "start_time": "2024-05-22T19:59:06.619908",
     "status": "completed"
    },
    "tags": []
   },
   "source": [
    "Aqui percebemos que o atributo escolariadade não é muito relevante, pois segue proporcional para clientes adimplentes e inadimplentes."
   ]
  },
  {
   "cell_type": "markdown",
   "id": "ee912032",
   "metadata": {
    "papermill": {
     "duration": 0.018037,
     "end_time": "2024-05-22T19:59:06.674285",
     "exception": false,
     "start_time": "2024-05-22T19:59:06.656248",
     "status": "completed"
    },
    "tags": []
   },
   "source": [
    "* **Tipo de cartão**"
   ]
  },
  {
   "cell_type": "code",
   "execution_count": 34,
   "id": "cf3366df",
   "metadata": {
    "execution": {
     "iopub.execute_input": "2024-05-22T19:59:06.713202Z",
     "iopub.status.busy": "2024-05-22T19:59:06.712233Z",
     "iopub.status.idle": "2024-05-22T19:59:07.506729Z",
     "shell.execute_reply": "2024-05-22T19:59:07.505484Z"
    },
    "papermill": {
     "duration": 0.816782,
     "end_time": "2024-05-22T19:59:07.509411",
     "exception": false,
     "start_time": "2024-05-22T19:59:06.692629",
     "status": "completed"
    },
    "tags": []
   },
   "outputs": [
    {
     "data": {
      "image/png": "[encoded data removed]",
      "text/plain": [
       "<Figure size 2000x500 with 3 Axes>"
      ]
     },
     "metadata": {},
     "output_type": "display_data"
    }
   ],
   "source": [
    "coluna = 'tipo_cartao'\n",
    "titulos = ['Tipo de cartão dos clientes', 'Tipo de cartao dos Clientes Adimplentes',\n",
    "           'tipo de cartão dos Clientes Inadimplentes']\n",
    "eixo = 0\n",
    "max_y = 0\n",
    "\n",
    "# encontrando o valor máximo de frequência para ajustar o gráfico\n",
    "max = df.select_dtypes('object').describe()[coluna]['freq'] * 1.1\n",
    "figura, eixos = plt.subplots(1, 3, figsize=(20, 5), sharex=True)\n",
    "\n",
    "# loop para criar os gráficos\n",
    "for dataframe in [df, df_adimplente, df_inadimplente]:\n",
    "    df_to_plot = dataframe[coluna].value_counts().reset_index()  # Cria um novo DataFrame com as contagens\n",
    "    df_to_plot.columns = [coluna, 'frequencia_absoluta']\n",
    "    df_to_plot.sort_values(by=[coluna], inplace=True)    \n",
    "\n",
    "    # plotando o gráfico de barras\n",
    "    f = sns.barplot(x=coluna, y='frequencia_absoluta', data=df_to_plot, ax=eixos[eixo])\n",
    "    f.set(title=titulos[eixo], xlabel=coluna.capitalize(), ylabel='Frequência Absoluta')\n",
    "    f.set_xticklabels(labels=df_to_plot[coluna], rotation=90)\n",
    "\n",
    "    # ajustando o limite do eixo y\n",
    "    _, max_y_f = f.get_ylim()\n",
    "    max_y = max_y_f if max_y_f > max_y else max_y\n",
    "    f.set(ylim=(0, max_y))\n",
    "    eixo += 1\n",
    "\n",
    "    figura.show()\n",
    "  "
   ]
  },
  {
   "cell_type": "markdown",
   "id": "204aefd7",
   "metadata": {
    "papermill": {
     "duration": 0.021447,
     "end_time": "2024-05-22T19:59:07.551041",
     "exception": false,
     "start_time": "2024-05-22T19:59:07.529594",
     "status": "completed"
    },
    "tags": []
   },
   "source": [
    "Neste atributo conseguimos analisar algo interessante! Existe uma presença perceptível de clientes inadimplentes com cartões *silver* , sugerindo que o cartão pode estar associado a um maior risco de inadimplência. Outro ponto interessante a se ressaltar é que a ausência de clientes inadimplentes com cartões **platinum** e muito poucos com o cartão **gold**, nos sugerindo que esses clientes têm menor probabilidade de inadimplência, possivelmente devido a critérios de seleção mais rigorosos ou a benefícios e suportes associados a esses tipos de cartões que ajudam a prevenir inadimplência."
   ]
  },
  {
   "cell_type": "markdown",
   "id": "de9d4b8c",
   "metadata": {
    "papermill": {
     "duration": 0.018824,
     "end_time": "2024-05-22T19:59:07.590013",
     "exception": false,
     "start_time": "2024-05-22T19:59:07.571189",
     "status": "completed"
    },
    "tags": []
   },
   "source": [
    "**Visualizações de dados numéricos:**"
   ]
  },
  {
   "cell_type": "markdown",
   "id": "0d482723",
   "metadata": {
    "papermill": {
     "duration": 0.018871,
     "end_time": "2024-05-22T19:59:07.628460",
     "exception": false,
     "start_time": "2024-05-22T19:59:07.609589",
     "status": "completed"
    },
    "tags": []
   },
   "source": [
    "Aqui iremos visualizar as correlações entre a variável default com os dados numéricos."
   ]
  },
  {
   "cell_type": "code",
   "execution_count": 35,
   "id": "aa308771",
   "metadata": {
    "execution": {
     "iopub.execute_input": "2024-05-22T19:59:07.668638Z",
     "iopub.status.busy": "2024-05-22T19:59:07.668247Z",
     "iopub.status.idle": "2024-05-22T19:59:07.685017Z",
     "shell.execute_reply": "2024-05-22T19:59:07.683943Z"
    },
    "papermill": {
     "duration": 0.039743,
     "end_time": "2024-05-22T19:59:07.687470",
     "exception": false,
     "start_time": "2024-05-22T19:59:07.647727",
     "status": "completed"
    },
    "tags": []
   },
   "outputs": [
    {
     "data": {
      "text/html": [
       "<div>\n",
       "<style scoped>\n",
       "    .dataframe tbody tr th:only-of-type {\n",
       "        vertical-align: middle;\n",
       "    }\n",
       "\n",
       "    .dataframe tbody tr th {\n",
       "        vertical-align: top;\n",
       "    }\n",
       "\n",
       "    .dataframe thead th {\n",
       "        text-align: right;\n",
       "    }\n",
       "</style>\n",
       "<table border=\"1\" class=\"dataframe\">\n",
       "  <thead>\n",
       "    <tr style=\"text-align: right;\">\n",
       "      <th></th>\n",
       "      <th>idade</th>\n",
       "      <th>dependentes</th>\n",
       "      <th>meses_de_relacionamento</th>\n",
       "      <th>qtd_produtos</th>\n",
       "      <th>iteracoes_12m</th>\n",
       "      <th>meses_inativo_12m</th>\n",
       "      <th>limite_credito</th>\n",
       "      <th>valor_transacoes_12m</th>\n",
       "      <th>qtd_transacoes_12m</th>\n",
       "    </tr>\n",
       "  </thead>\n",
       "  <tbody>\n",
       "    <tr>\n",
       "      <th>0</th>\n",
       "      <td>45</td>\n",
       "      <td>3</td>\n",
       "      <td>39</td>\n",
       "      <td>5</td>\n",
       "      <td>3</td>\n",
       "      <td>1</td>\n",
       "      <td>12691.51</td>\n",
       "      <td>1144.90</td>\n",
       "      <td>42</td>\n",
       "    </tr>\n",
       "    <tr>\n",
       "      <th>1</th>\n",
       "      <td>49</td>\n",
       "      <td>5</td>\n",
       "      <td>44</td>\n",
       "      <td>6</td>\n",
       "      <td>2</td>\n",
       "      <td>1</td>\n",
       "      <td>8256.96</td>\n",
       "      <td>1291.45</td>\n",
       "      <td>33</td>\n",
       "    </tr>\n",
       "    <tr>\n",
       "      <th>2</th>\n",
       "      <td>51</td>\n",
       "      <td>3</td>\n",
       "      <td>36</td>\n",
       "      <td>4</td>\n",
       "      <td>0</td>\n",
       "      <td>1</td>\n",
       "      <td>3418.56</td>\n",
       "      <td>1887.72</td>\n",
       "      <td>20</td>\n",
       "    </tr>\n",
       "    <tr>\n",
       "      <th>4</th>\n",
       "      <td>40</td>\n",
       "      <td>3</td>\n",
       "      <td>21</td>\n",
       "      <td>5</td>\n",
       "      <td>0</td>\n",
       "      <td>1</td>\n",
       "      <td>4716.22</td>\n",
       "      <td>816.08</td>\n",
       "      <td>28</td>\n",
       "    </tr>\n",
       "    <tr>\n",
       "      <th>5</th>\n",
       "      <td>44</td>\n",
       "      <td>2</td>\n",
       "      <td>36</td>\n",
       "      <td>3</td>\n",
       "      <td>2</td>\n",
       "      <td>1</td>\n",
       "      <td>4010.69</td>\n",
       "      <td>1088.07</td>\n",
       "      <td>24</td>\n",
       "    </tr>\n",
       "  </tbody>\n",
       "</table>\n",
       "</div>"
      ],
      "text/plain": [
       "   idade  dependentes  meses_de_relacionamento  qtd_produtos  iteracoes_12m  \\\n",
       "0     45            3                       39             5              3   \n",
       "1     49            5                       44             6              2   \n",
       "2     51            3                       36             4              0   \n",
       "4     40            3                       21             5              0   \n",
       "5     44            2                       36             3              2   \n",
       "\n",
       "   meses_inativo_12m  limite_credito  valor_transacoes_12m  qtd_transacoes_12m  \n",
       "0                  1        12691.51               1144.90                  42  \n",
       "1                  1         8256.96               1291.45                  33  \n",
       "2                  1         3418.56               1887.72                  20  \n",
       "4                  1         4716.22                816.08                  28  \n",
       "5                  1         4010.69               1088.07                  24  "
      ]
     },
     "execution_count": 35,
     "metadata": {},
     "output_type": "execute_result"
    }
   ],
   "source": [
    "df.drop(['id','default'], axis=1).select_dtypes('number').head(n=5)"
   ]
  },
  {
   "cell_type": "markdown",
   "id": "3087ca3b",
   "metadata": {
    "papermill": {
     "duration": 0.018919,
     "end_time": "2024-05-22T19:59:07.725846",
     "exception": false,
     "start_time": "2024-05-22T19:59:07.706927",
     "status": "completed"
    },
    "tags": []
   },
   "source": [
    "* **Quantidade de transações no ultimo ano**"
   ]
  },
  {
   "cell_type": "code",
   "execution_count": 36,
   "id": "369dddc9",
   "metadata": {
    "execution": {
     "iopub.execute_input": "2024-05-22T19:59:07.766345Z",
     "iopub.status.busy": "2024-05-22T19:59:07.765984Z",
     "iopub.status.idle": "2024-05-22T19:59:08.978095Z",
     "shell.execute_reply": "2024-05-22T19:59:08.976979Z"
    },
    "papermill": {
     "duration": 1.235509,
     "end_time": "2024-05-22T19:59:08.980673",
     "exception": false,
     "start_time": "2024-05-22T19:59:07.745164",
     "status": "completed"
    },
    "tags": []
   },
   "outputs": [
    {
     "data": {
      "image/png": "[encoded data removed]",
      "text/plain": [
       "<Figure size 2000x500 with 3 Axes>"
      ]
     },
     "metadata": {},
     "output_type": "display_data"
    }
   ],
   "source": [
    "coluna = 'qtd_transacoes_12m'\n",
    "titulos = ['Qtd. de Transações no Último Ano', \n",
    "           'Qtd. de Transações no Último Ano de Adimplentes', \n",
    "           'Qtd. de Transações no Último Ano de Inadimplentes']\n",
    "eixo = 0\n",
    "max_y = 0\n",
    "figura, eixos = plt.subplots(1,3, figsize=(20, 5), sharex=True)\n",
    "\n",
    "# loop para criar os gráficos\n",
    "for dataframe in [df, df_adimplente, df_inadimplente]:\n",
    "    \n",
    "    # plotando o gráfico\n",
    "    f = sns.histplot(x=coluna, data=dataframe, stat='count', ax=eixos[eixo])\n",
    "    f.set(title=titulos[eixo], xlabel=coluna.capitalize(), \n",
    "                               ylabel='Frequência Absoluta')\n",
    "    \n",
    "    # ajustando o limite do eixo y\n",
    "    _, max_y_f = f.get_ylim()\n",
    "    max_y = max_y_f if max_y_f > max_y else max_y\n",
    "    f.set(ylim=(0, max_y))\n",
    "    eixo += 1\n",
    "\n",
    "    figura.show()"
   ]
  },
  {
   "cell_type": "markdown",
   "id": "af814fed",
   "metadata": {
    "papermill": {
     "duration": 0.019734,
     "end_time": "2024-05-22T19:59:09.020564",
     "exception": false,
     "start_time": "2024-05-22T19:59:09.000830",
     "status": "completed"
    },
    "tags": []
   },
   "source": [
    "Nesta seção podemos tirar algumas conclusões importantes:\n",
    "\n",
    "\n",
    " Em relação aos clientes adimplentes, a cauda direita (mais transações) parece ser mais alongada em comparação com os inadimplentes, o que pode indicar que clientes adimplentes tendem a fazer **mais transações de forma consistente**.\n",
    " Clientes adimplentes têm uma distribuição de transações mais ampla e mais elevada, indicando que eles tendem a ser **mais ativos** em termos de transações anuais. Sua concentração se encontra entre 40 e 80 transações por ano\n",
    "\n",
    "\n",
    "Em relação aos clientes inadimplentes a cauda esquerda (menos transações) é mais pronunciada, indicando que os inadimplentes tendem a fazer **menos transações**.\n",
    " Clientes inadimplentes realizam significativamente **menos transações**, com o pico de frequência de transações sendo menor comparado aos adimplentes. Sua concentração se encontra entre 20 e 60."
   ]
  },
  {
   "cell_type": "markdown",
   "id": "d61aeea3",
   "metadata": {
    "papermill": {
     "duration": 0.019589,
     "end_time": "2024-05-22T19:59:09.060239",
     "exception": false,
     "start_time": "2024-05-22T19:59:09.040650",
     "status": "completed"
    },
    "tags": []
   },
   "source": [
    "                                                                                                  \n",
    "                                                                                                  \n",
    "                                                                                                  "
   ]
  },
  {
   "cell_type": "markdown",
   "id": "97f1014a",
   "metadata": {
    "papermill": {
     "duration": 0.022683,
     "end_time": "2024-05-22T19:59:09.106228",
     "exception": false,
     "start_time": "2024-05-22T19:59:09.083545",
     "status": "completed"
    },
    "tags": []
   },
   "source": [
    "* **Valor de transções no ultimo ano**"
   ]
  },
  {
   "cell_type": "code",
   "execution_count": 37,
   "id": "c55deca5",
   "metadata": {
    "execution": {
     "iopub.execute_input": "2024-05-22T19:59:09.149183Z",
     "iopub.status.busy": "2024-05-22T19:59:09.148820Z",
     "iopub.status.idle": "2024-05-22T19:59:10.510294Z",
     "shell.execute_reply": "2024-05-22T19:59:10.509170Z"
    },
    "papermill": {
     "duration": 1.385412,
     "end_time": "2024-05-22T19:59:10.512489",
     "exception": false,
     "start_time": "2024-05-22T19:59:09.127077",
     "status": "completed"
    },
    "tags": []
   },
   "outputs": [
    {
     "data": {
      "image/png": "[encoded data removed]",
      "text/plain": [
       "<Figure size 2000x500 with 3 Axes>"
      ]
     },
     "metadata": {},
     "output_type": "display_data"
    }
   ],
   "source": [
    "coluna = 'valor_transacoes_12m'\n",
    "titulos = ['Valor das Transações no Último Ano', 'Valor das Transações no Último Ano de Adimplentes', 'Valor das Transações no Último Ano de Inadimplentes']\n",
    "\n",
    "eixo = 0\n",
    "max_y = 0\n",
    "figura, eixos = plt.subplots(1,3, figsize=(20, 5), sharex=True)\n",
    "\n",
    "# loop para criar os gráficos\n",
    "for dataframe in [df, df_adimplente, df_inadimplente]:\n",
    "\n",
    "    # plotando o gráfico\n",
    "    f = sns.histplot(x=coluna, data=dataframe, stat='count', ax=eixos[eixo])\n",
    "    f.set(title=titulos[eixo], xlabel=coluna.capitalize(), \n",
    "                               ylabel='Frequência Absoluta')\n",
    "\n",
    "    # ajustando o limite do eixo y\n",
    "    _, max_y_f = f.get_ylim()\n",
    "    max_y = max_y_f if max_y_f > max_y else max_y\n",
    "    f.set(ylim=(0, max_y))\n",
    "    eixo += 1\n",
    "\n",
    "    figura.show()"
   ]
  },
  {
   "cell_type": "markdown",
   "id": "f08b9ea5",
   "metadata": {
    "papermill": {
     "duration": 0.020463,
     "end_time": "2024-05-22T19:59:10.554009",
     "exception": false,
     "start_time": "2024-05-22T19:59:10.533546",
     "status": "completed"
    },
    "tags": []
   },
   "source": [
    "A maioria das transações de clientes inadimplentes está concentrada em valores menores, especialmente entre 0 e 2500. Sendo seu pico principal é em torno de 1000 a 2000, que é mais baixo comparado ao pico dos clientes adimplentes.\n",
    "\n",
    "Poucos clientes inadimplentes realizam transações de valor elevado, com quase nenhuma transação acima de 7500."
   ]
  },
  {
   "cell_type": "markdown",
   "id": "c5031467",
   "metadata": {
    "papermill": {
     "duration": 0.020126,
     "end_time": "2024-05-22T19:59:10.595194",
     "exception": false,
     "start_time": "2024-05-22T19:59:10.575068",
     "status": "completed"
    },
    "tags": []
   },
   "source": [
    "* **Valor de Transações nos Últimos 12 Meses x Quantidade de Transações nos Últimos 12 Meses**"
   ]
  },
  {
   "cell_type": "code",
   "execution_count": 38,
   "id": "fb9c9119",
   "metadata": {
    "execution": {
     "iopub.execute_input": "2024-05-22T19:59:10.638744Z",
     "iopub.status.busy": "2024-05-22T19:59:10.637621Z",
     "iopub.status.idle": "2024-05-22T19:59:12.060759Z",
     "shell.execute_reply": "2024-05-22T19:59:12.059785Z"
    },
    "papermill": {
     "duration": 1.44851,
     "end_time": "2024-05-22T19:59:12.064195",
     "exception": false,
     "start_time": "2024-05-22T19:59:10.615685",
     "status": "completed"
    },
    "tags": []
   },
   "outputs": [
    {
     "data": {
      "image/png": "[encoded data removed]",
      "text/plain": [
       "<Figure size 560.236x500 with 1 Axes>"
      ]
     },
     "metadata": {},
     "output_type": "display_data"
    }
   ],
   "source": [
    "# plotando grafico\n",
    "f = sns.relplot(x='valor_transacoes_12m', y='qtd_transacoes_12m', data=df, hue='default')\n",
    "_ = f.set(\n",
    "    title='Relação entre Valor e Quantidade de Transações no Último Ano', \n",
    "    xlabel='Valor das Transações no Último Ano', \n",
    "    ylabel='Quantidade das Transações no Último Ano'\n",
    "  )\n",
    "\n",
    "figura.show()"
   ]
  },
  {
   "cell_type": "markdown",
   "id": "d53d2b07",
   "metadata": {
    "papermill": {
     "duration": 0.023259,
     "end_time": "2024-05-22T19:59:12.110816",
     "exception": false,
     "start_time": "2024-05-22T19:59:12.087557",
     "status": "completed"
    },
    "tags": []
   },
   "source": [
    "Diante deste gráfico podemos chegar a algumas conclusões:\n",
    "\n",
    "1. Os pontos laranjas (clientes inadimplentes) estão majoritariamente concentrados na faixa de valor entre 0 e 10000 e com quantidade de transações entre 20 e 80\n",
    "2. Poucos clientes inadimplentes fazem um número alto de transações (acima de 80) ou transações de valor elevado (acima de 7500).\n",
    "\n",
    "3. A maioria dos pontos azuis (clientes adimplentes) tem a quantidade de transações entre 40 e 120\n",
    "4. Há também uma concentração significativa de clientes adimplentes realizando transações de valores mais altos (acima de 10000) com uma quantidade de transações variando entre 80 e 140.\n",
    "\n",
    "5. A presença de clientes inadimplentes diminui significativamente à medida que o valor das transações aumenta, especialmente acima de 7500."
   ]
  },
  {
   "cell_type": "markdown",
   "id": "8328c66a",
   "metadata": {
    "papermill": {
     "duration": 0.022719,
     "end_time": "2024-05-22T19:59:12.156704",
     "exception": false,
     "start_time": "2024-05-22T19:59:12.133985",
     "status": "completed"
    },
    "tags": []
   },
   "source": [
    "\n",
    "\n"
   ]
  },
  {
   "cell_type": "markdown",
   "id": "7eb244e3",
   "metadata": {
    "papermill": {
     "duration": 0.022452,
     "end_time": "2024-05-22T19:59:12.201938",
     "exception": false,
     "start_time": "2024-05-22T19:59:12.179486",
     "status": "completed"
    },
    "tags": []
   },
   "source": [
    "**Insights:**"
   ]
  },
  {
   "cell_type": "markdown",
   "id": "bb7c8f27",
   "metadata": {
    "papermill": {
     "duration": 0.022841,
     "end_time": "2024-05-22T19:59:12.247750",
     "exception": false,
     "start_time": "2024-05-22T19:59:12.224909",
     "status": "completed"
    },
    "tags": []
   },
   "source": [
    "* Tipo de cartão: \n",
    "1. Existe uma presença perceptível de clientes inadimplentes com cartões silver\n",
    "2. Ausência de clientes inadimplentes com cartões platinum e muito poucos com o cartão gold\n",
    "\n",
    "* Quantidade de transações no ultimo ano:\n",
    "1. Clientes adimplentes têm uma distribuição de transações mais ampla e mais elevada, indicando que eles tendem a ser mais ativos em termos de transações anuais. Sua concentração se encontra entre 40 e 80 transações por ano\n",
    "2. Clientes inadimplentes realizam significativamente menos transações, com o pico de frequência de transações sendo menor comparado aos adimplentes. Sua concentração se encontra entre 20 e 60.\n",
    "\n",
    "* Valor de transções no ultimo ano:\n",
    "1. A maioria das transações de clientes inadimplentes está concentrada em valores menores, especialmente entre 0 e 2500. Sendo seu pico principal é em torno de 1000 a 2000, que é mais baixo comparado ao pico dos clientes adimplentes.\n",
    "2. Poucos clientes inadimplentes realizam transações de valor elevado, com quase nenhuma transação acima de 7500.\n",
    "\n",
    "* Valor de Transações nos Últimos 12 Meses x Quantidade de Transações nos Últimos 12 Meses:\n",
    "1. Clientes inadimplentes estão majoritariamente concentrados na faixa de valor entre 0 e 10000 e com quantidade de transações entre 20 e 80\n",
    "2. Poucos clientes inadimplentes fazem um número alto de transações (acima de 80) ou transações de valor elevado (acima de 7500).\n",
    "4. Clientes adimplentes tem a quantidade de transações entre 40 e 120\n",
    "5. Há também uma concentração significativa de clientes adimplentes realizando transações de valores mais altos (acima de 10000) com uma quantidade de transações variando entre 80 e 140.\n",
    "\n",
    "\n",
    "\n",
    "\n",
    "\n",
    "\n",
    "\n",
    "\n"
   ]
  },
  {
   "cell_type": "markdown",
   "id": "078a7dde",
   "metadata": {
    "papermill": {
     "duration": 0.022646,
     "end_time": "2024-05-22T19:59:12.293331",
     "exception": false,
     "start_time": "2024-05-22T19:59:12.270685",
     "status": "completed"
    },
    "tags": []
   },
   "source": [
    "**Recomendações:**\n",
    "* Foco nos Cartões *Silver*\": Realizar uma análise mais profunda sobre os clientes com cartões *silver* para entender por que uma proporção maior deles é inadimplente. Isso pode envolver revisar as condições de concessão desses cartões ou oferecer programas de educação financeira direcionados.\n",
    "* Manutenção de Clientes *Platinum*: Continuar com os critérios rigorosos para os cartões *platinum*, pois parece eficaz em manter uma base de clientes adimplente.\n",
    "* Apoio aos Clientes *Blue*: Embora a maioria dos clientes possua cartões *blue*, observar que a inadimplência também ocorre nesse grupo. Oferecer programas de suporte e monitoramento pode ajudar a reduzir a inadimplência."
   ]
  }
 ],
 "metadata": {
  "kaggle": {
   "accelerator": "none",
   "dataSources": [
    {
     "datasetId": 4975963,
     "sourceId": 8370149,
     "sourceType": "datasetVersion"
    }
   ],
   "dockerImageVersionId": 30698,
   "isGpuEnabled": false,
   "isInternetEnabled": false,
   "language": "python",
   "sourceType": "notebook"
  },
  "kernelspec": {
   "display_name": "Python 3",
   "language": "python",
   "name": "python3"
  },
  "language_info": {
   "codemirror_mode": {
    "name": "ipython",
    "version": 3
   },
   "file_extension": ".py",
   "mimetype": "text/x-python",
   "name": "python",
   "nbconvert_exporter": "python",
   "pygments_lexer": "ipython3",
   "version": "3.10.13"
  },
  "papermill": {
   "default_parameters": {},
   "duration": 14.385365,
   "end_time": "2024-05-22T19:59:12.937485",
   "environment_variables": {},
   "exception": null,
   "input_path": "__notebook__.ipynb",
   "output_path": "__notebook__.ipynb",
   "parameters": {},
   "start_time": "2024-05-22T19:58:58.552120",
   "version": "2.5.0"
  }
 },
 "nbformat": 4,
 "nbformat_minor": 5
}
